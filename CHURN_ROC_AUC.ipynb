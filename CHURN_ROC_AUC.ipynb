{
  "nbformat": 4,
  "nbformat_minor": 0,
  "metadata": {
    "colab": {
      "name": "UTS_SOAL_2.ipynb",
      "provenance": [],
      "collapsed_sections": [
        "QFK54U2nAYnw",
        "WfHqC9qBFUsQ",
        "STwa13TkJaV6"
      ]
    },
    "kernelspec": {
      "name": "python3",
      "display_name": "Python 3"
    },
    "language_info": {
      "name": "python"
    }
  },
  "cells": [
    {
      "cell_type": "code",
      "metadata": {
        "colab": {
          "base_uri": "https://localhost:8080/"
        },
        "id": "DQjOSRDgn62Z",
        "outputId": "7641d87c-fbb9-4108-bac2-5912a9e1bf8c"
      },
      "source": [
        "from google.colab import drive\n",
        "drive.mount('/content/drive')"
      ],
      "execution_count": null,
      "outputs": [
        {
          "output_type": "stream",
          "text": [
            "Drive already mounted at /content/drive; to attempt to forcibly remount, call drive.mount(\"/content/drive\", force_remount=True).\n"
          ],
          "name": "stdout"
        }
      ]
    },
    {
      "cell_type": "code",
      "metadata": {
        "id": "POeUwfpUopti"
      },
      "source": [
        ""
      ],
      "execution_count": null,
      "outputs": []
    },
    {
      "cell_type": "markdown",
      "metadata": {
        "id": "EL__kVEso9hJ"
      },
      "source": [
        "# 1. Preparation"
      ]
    },
    {
      "cell_type": "markdown",
      "metadata": {
        "id": "bzhw-aNfpAlC"
      },
      "source": [
        "Divisi marketing ingin meningkatkan potensi pendapatan dari paket layanan di salah satu perusahaan telekomunikasi. Adapun rekomendasi yang diusulkan yaitu dengan memprediksi pelanggan yang berpotensi menghentikan layanan produk (CHURN). Dengan prediksi tersebut, manajemen memproyeksikan mampu melakukan langkah-langkah preventif dalam rangka meningkatkan loyalitas pelanggan berdasarkan data pelanggan, paket layanan dan data pendukung lainnya."
      ]
    },
    {
      "cell_type": "code",
      "metadata": {
        "id": "lralORc3o-cT"
      },
      "source": [
        "# Importing libraries\n",
        "import numpy as np\n",
        "import pandas as pd\n",
        "import matplotlib.pyplot as plt\n",
        "import seaborn as sns\n",
        "%matplotlib inline"
      ],
      "execution_count": null,
      "outputs": []
    },
    {
      "cell_type": "code",
      "metadata": {
        "colab": {
          "base_uri": "https://localhost:8080/",
          "height": 574
        },
        "id": "xBEMv4UHpTKF",
        "outputId": "d80f6ab3-8cef-45ac-8145-87471be7be31"
      },
      "source": [
        "file = pd.read_csv('/content/drive/MyDrive/UTS/UTS2/sampledatauts.csv', delimiter=',')\n",
        "file"
      ],
      "execution_count": null,
      "outputs": [
        {
          "output_type": "execute_result",
          "data": {
            "text/html": [
              "<div>\n",
              "<style scoped>\n",
              "    .dataframe tbody tr th:only-of-type {\n",
              "        vertical-align: middle;\n",
              "    }\n",
              "\n",
              "    .dataframe tbody tr th {\n",
              "        vertical-align: top;\n",
              "    }\n",
              "\n",
              "    .dataframe thead th {\n",
              "        text-align: right;\n",
              "    }\n",
              "</style>\n",
              "<table border=\"1\" class=\"dataframe\">\n",
              "  <thead>\n",
              "    <tr style=\"text-align: right;\">\n",
              "      <th></th>\n",
              "      <th>WITEL</th>\n",
              "      <th>ID_CUSTOMER</th>\n",
              "      <th>SPEED</th>\n",
              "      <th>PRODUCT</th>\n",
              "      <th>TECHNO</th>\n",
              "      <th>IS_USAGE_VOICE</th>\n",
              "      <th>IS_USAGE_INET</th>\n",
              "      <th>ARPU</th>\n",
              "      <th>RANGE_UMUR</th>\n",
              "      <th>CLV</th>\n",
              "      <th>IS_CHURN</th>\n",
              "      <th>BYTES</th>\n",
              "      <th>LIST_ASSET</th>\n",
              "      <th>COMPLAINT</th>\n",
              "      <th>USAGE</th>\n",
              "      <th>MINIPACK</th>\n",
              "      <th>STB2</th>\n",
              "      <th>STB3</th>\n",
              "      <th>PLC</th>\n",
              "      <th>UPGRADE_SPEED</th>\n",
              "      <th>WIFI_EXT</th>\n",
              "      <th>INDIBOX</th>\n",
              "      <th>GAME</th>\n",
              "    </tr>\n",
              "  </thead>\n",
              "  <tbody>\n",
              "    <tr>\n",
              "      <th>0</th>\n",
              "      <td>BN</td>\n",
              "      <td>101</td>\n",
              "      <td>20480</td>\n",
              "      <td>Paket A</td>\n",
              "      <td>FIBER</td>\n",
              "      <td>0</td>\n",
              "      <td>1</td>\n",
              "      <td>308000</td>\n",
              "      <td>c. 7-12 bln</td>\n",
              "      <td>2156000</td>\n",
              "      <td>0</td>\n",
              "      <td>5.050000e+11</td>\n",
              "      <td>3</td>\n",
              "      <td>0</td>\n",
              "      <td>&gt;200 GB</td>\n",
              "      <td>0</td>\n",
              "      <td>0</td>\n",
              "      <td>0</td>\n",
              "      <td>0</td>\n",
              "      <td>0</td>\n",
              "      <td>0</td>\n",
              "      <td>0</td>\n",
              "      <td>0</td>\n",
              "    </tr>\n",
              "    <tr>\n",
              "      <th>1</th>\n",
              "      <td>JT</td>\n",
              "      <td>102</td>\n",
              "      <td>10240</td>\n",
              "      <td>Paket B</td>\n",
              "      <td>FIBER</td>\n",
              "      <td>0</td>\n",
              "      <td>1</td>\n",
              "      <td>375651</td>\n",
              "      <td>d. 1-2 thn</td>\n",
              "      <td>7513020</td>\n",
              "      <td>0</td>\n",
              "      <td>1.850000e+11</td>\n",
              "      <td>7</td>\n",
              "      <td>3</td>\n",
              "      <td>100GB-200GB</td>\n",
              "      <td>0</td>\n",
              "      <td>0</td>\n",
              "      <td>0</td>\n",
              "      <td>0</td>\n",
              "      <td>0</td>\n",
              "      <td>0</td>\n",
              "      <td>0</td>\n",
              "      <td>0</td>\n",
              "    </tr>\n",
              "    <tr>\n",
              "      <th>2</th>\n",
              "      <td>JS</td>\n",
              "      <td>103</td>\n",
              "      <td>30720</td>\n",
              "      <td>Paket B</td>\n",
              "      <td>FIBER</td>\n",
              "      <td>0</td>\n",
              "      <td>1</td>\n",
              "      <td>455400</td>\n",
              "      <td>d. 1-2 thn</td>\n",
              "      <td>5464800</td>\n",
              "      <td>0</td>\n",
              "      <td>8.670000e+11</td>\n",
              "      <td>6</td>\n",
              "      <td>5</td>\n",
              "      <td>&gt;200 GB</td>\n",
              "      <td>2</td>\n",
              "      <td>0</td>\n",
              "      <td>0</td>\n",
              "      <td>0</td>\n",
              "      <td>0</td>\n",
              "      <td>0</td>\n",
              "      <td>0</td>\n",
              "      <td>0</td>\n",
              "    </tr>\n",
              "    <tr>\n",
              "      <th>3</th>\n",
              "      <td>BR</td>\n",
              "      <td>104</td>\n",
              "      <td>51200</td>\n",
              "      <td>Paket B</td>\n",
              "      <td>FIBER</td>\n",
              "      <td>0</td>\n",
              "      <td>1</td>\n",
              "      <td>830500</td>\n",
              "      <td>e. 3-4 thn</td>\n",
              "      <td>39033500</td>\n",
              "      <td>0</td>\n",
              "      <td>2.170000e+11</td>\n",
              "      <td>13</td>\n",
              "      <td>7</td>\n",
              "      <td>&gt;200 GB</td>\n",
              "      <td>4</td>\n",
              "      <td>1</td>\n",
              "      <td>0</td>\n",
              "      <td>0</td>\n",
              "      <td>0</td>\n",
              "      <td>0</td>\n",
              "      <td>0</td>\n",
              "      <td>0</td>\n",
              "    </tr>\n",
              "    <tr>\n",
              "      <th>4</th>\n",
              "      <td>JT</td>\n",
              "      <td>105</td>\n",
              "      <td>10240</td>\n",
              "      <td>Paket A</td>\n",
              "      <td>FIBER</td>\n",
              "      <td>0</td>\n",
              "      <td>1</td>\n",
              "      <td>236500</td>\n",
              "      <td>a. 0-3 bln</td>\n",
              "      <td>473000</td>\n",
              "      <td>0</td>\n",
              "      <td>1.930000e+11</td>\n",
              "      <td>2</td>\n",
              "      <td>1</td>\n",
              "      <td>100GB-200GB</td>\n",
              "      <td>0</td>\n",
              "      <td>0</td>\n",
              "      <td>0</td>\n",
              "      <td>0</td>\n",
              "      <td>0</td>\n",
              "      <td>0</td>\n",
              "      <td>0</td>\n",
              "      <td>0</td>\n",
              "    </tr>\n",
              "    <tr>\n",
              "      <th>...</th>\n",
              "      <td>...</td>\n",
              "      <td>...</td>\n",
              "      <td>...</td>\n",
              "      <td>...</td>\n",
              "      <td>...</td>\n",
              "      <td>...</td>\n",
              "      <td>...</td>\n",
              "      <td>...</td>\n",
              "      <td>...</td>\n",
              "      <td>...</td>\n",
              "      <td>...</td>\n",
              "      <td>...</td>\n",
              "      <td>...</td>\n",
              "      <td>...</td>\n",
              "      <td>...</td>\n",
              "      <td>...</td>\n",
              "      <td>...</td>\n",
              "      <td>...</td>\n",
              "      <td>...</td>\n",
              "      <td>...</td>\n",
              "      <td>...</td>\n",
              "      <td>...</td>\n",
              "      <td>...</td>\n",
              "    </tr>\n",
              "    <tr>\n",
              "      <th>93459</th>\n",
              "      <td>JS</td>\n",
              "      <td>93560</td>\n",
              "      <td>10240</td>\n",
              "      <td>Paket B</td>\n",
              "      <td>NON FIBER</td>\n",
              "      <td>0</td>\n",
              "      <td>1</td>\n",
              "      <td>440000</td>\n",
              "      <td>d. 1-2 thn</td>\n",
              "      <td>8360000</td>\n",
              "      <td>1</td>\n",
              "      <td>2.610000e+11</td>\n",
              "      <td>5</td>\n",
              "      <td>1</td>\n",
              "      <td>&gt;200 GB</td>\n",
              "      <td>0</td>\n",
              "      <td>0</td>\n",
              "      <td>0</td>\n",
              "      <td>0</td>\n",
              "      <td>0</td>\n",
              "      <td>0</td>\n",
              "      <td>0</td>\n",
              "      <td>0</td>\n",
              "    </tr>\n",
              "    <tr>\n",
              "      <th>93460</th>\n",
              "      <td>JT</td>\n",
              "      <td>93561</td>\n",
              "      <td>10240</td>\n",
              "      <td>Paket B</td>\n",
              "      <td>FIBER</td>\n",
              "      <td>0</td>\n",
              "      <td>1</td>\n",
              "      <td>446600</td>\n",
              "      <td>d. 1-2 thn</td>\n",
              "      <td>7592200</td>\n",
              "      <td>1</td>\n",
              "      <td>7.420451e+10</td>\n",
              "      <td>6</td>\n",
              "      <td>1</td>\n",
              "      <td>20GB-100 GB</td>\n",
              "      <td>1</td>\n",
              "      <td>0</td>\n",
              "      <td>0</td>\n",
              "      <td>0</td>\n",
              "      <td>0</td>\n",
              "      <td>0</td>\n",
              "      <td>0</td>\n",
              "      <td>0</td>\n",
              "    </tr>\n",
              "    <tr>\n",
              "      <th>93461</th>\n",
              "      <td>BS</td>\n",
              "      <td>93562</td>\n",
              "      <td>10240</td>\n",
              "      <td>Paket B</td>\n",
              "      <td>FIBER</td>\n",
              "      <td>0</td>\n",
              "      <td>1</td>\n",
              "      <td>379500</td>\n",
              "      <td>e. 3-4 thn</td>\n",
              "      <td>12903000</td>\n",
              "      <td>1</td>\n",
              "      <td>6.371452e+06</td>\n",
              "      <td>4</td>\n",
              "      <td>0</td>\n",
              "      <td>&lt; 20GB</td>\n",
              "      <td>0</td>\n",
              "      <td>0</td>\n",
              "      <td>0</td>\n",
              "      <td>0</td>\n",
              "      <td>0</td>\n",
              "      <td>0</td>\n",
              "      <td>0</td>\n",
              "      <td>0</td>\n",
              "    </tr>\n",
              "    <tr>\n",
              "      <th>93462</th>\n",
              "      <td>BS</td>\n",
              "      <td>93563</td>\n",
              "      <td>20480</td>\n",
              "      <td>Paket B</td>\n",
              "      <td>FIBER</td>\n",
              "      <td>0</td>\n",
              "      <td>1</td>\n",
              "      <td>591800</td>\n",
              "      <td>e. 3-4 thn</td>\n",
              "      <td>17162200</td>\n",
              "      <td>1</td>\n",
              "      <td>NaN</td>\n",
              "      <td>5</td>\n",
              "      <td>1</td>\n",
              "      <td>NO USAGE</td>\n",
              "      <td>1</td>\n",
              "      <td>0</td>\n",
              "      <td>0</td>\n",
              "      <td>0</td>\n",
              "      <td>0</td>\n",
              "      <td>0</td>\n",
              "      <td>0</td>\n",
              "      <td>0</td>\n",
              "    </tr>\n",
              "    <tr>\n",
              "      <th>93463</th>\n",
              "      <td>TG</td>\n",
              "      <td>93564</td>\n",
              "      <td>10240</td>\n",
              "      <td>Paket B</td>\n",
              "      <td>FIBER</td>\n",
              "      <td>0</td>\n",
              "      <td>0</td>\n",
              "      <td>82500</td>\n",
              "      <td>d. 1-2 thn</td>\n",
              "      <td>1072500</td>\n",
              "      <td>1</td>\n",
              "      <td>1.698882e+10</td>\n",
              "      <td>1</td>\n",
              "      <td>0</td>\n",
              "      <td>&lt; 20GB</td>\n",
              "      <td>0</td>\n",
              "      <td>0</td>\n",
              "      <td>0</td>\n",
              "      <td>0</td>\n",
              "      <td>0</td>\n",
              "      <td>0</td>\n",
              "      <td>0</td>\n",
              "      <td>0</td>\n",
              "    </tr>\n",
              "  </tbody>\n",
              "</table>\n",
              "<p>93464 rows × 23 columns</p>\n",
              "</div>"
            ],
            "text/plain": [
              "      WITEL  ID_CUSTOMER  SPEED  ... WIFI_EXT INDIBOX  GAME\n",
              "0        BN          101  20480  ...        0       0     0\n",
              "1        JT          102  10240  ...        0       0     0\n",
              "2        JS          103  30720  ...        0       0     0\n",
              "3        BR          104  51200  ...        0       0     0\n",
              "4        JT          105  10240  ...        0       0     0\n",
              "...     ...          ...    ...  ...      ...     ...   ...\n",
              "93459    JS        93560  10240  ...        0       0     0\n",
              "93460    JT        93561  10240  ...        0       0     0\n",
              "93461    BS        93562  10240  ...        0       0     0\n",
              "93462    BS        93563  20480  ...        0       0     0\n",
              "93463    TG        93564  10240  ...        0       0     0\n",
              "\n",
              "[93464 rows x 23 columns]"
            ]
          },
          "metadata": {
            "tags": []
          },
          "execution_count": 113
        }
      ]
    },
    {
      "cell_type": "code",
      "metadata": {
        "colab": {
          "base_uri": "https://localhost:8080/"
        },
        "id": "1GimfKBapVNZ",
        "outputId": "8c7ed2b6-a59d-44fb-f722-fa0f9f8d5311"
      },
      "source": [
        "file.info()"
      ],
      "execution_count": null,
      "outputs": [
        {
          "output_type": "stream",
          "text": [
            "<class 'pandas.core.frame.DataFrame'>\n",
            "RangeIndex: 93464 entries, 0 to 93463\n",
            "Data columns (total 23 columns):\n",
            " #   Column          Non-Null Count  Dtype  \n",
            "---  ------          --------------  -----  \n",
            " 0   WITEL           93464 non-null  object \n",
            " 1   ID_CUSTOMER     93464 non-null  int64  \n",
            " 2   SPEED           93464 non-null  int64  \n",
            " 3   PRODUCT         93464 non-null  object \n",
            " 4   TECHNO          93464 non-null  object \n",
            " 5   IS_USAGE_VOICE  93464 non-null  int64  \n",
            " 6   IS_USAGE_INET   93464 non-null  int64  \n",
            " 7   ARPU            93464 non-null  int64  \n",
            " 8   RANGE_UMUR      93464 non-null  object \n",
            " 9   CLV             93464 non-null  int64  \n",
            " 10  IS_CHURN        93464 non-null  int64  \n",
            " 11  BYTES           82819 non-null  float64\n",
            " 12  LIST_ASSET      93464 non-null  int64  \n",
            " 13  COMPLAINT       93464 non-null  int64  \n",
            " 14  USAGE           93464 non-null  object \n",
            " 15  MINIPACK        93464 non-null  int64  \n",
            " 16  STB2            93464 non-null  int64  \n",
            " 17  STB3            93464 non-null  int64  \n",
            " 18  PLC             93464 non-null  int64  \n",
            " 19  UPGRADE_SPEED   93464 non-null  int64  \n",
            " 20  WIFI_EXT        93464 non-null  int64  \n",
            " 21  INDIBOX         93464 non-null  int64  \n",
            " 22  GAME            93464 non-null  int64  \n",
            "dtypes: float64(1), int64(17), object(5)\n",
            "memory usage: 16.4+ MB\n"
          ],
          "name": "stdout"
        }
      ]
    },
    {
      "cell_type": "code",
      "metadata": {
        "colab": {
          "base_uri": "https://localhost:8080/"
        },
        "id": "66BtB61JpsHg",
        "outputId": "316d4c2c-d05b-4265-d03e-392947788f59"
      },
      "source": [
        "file['IS_CHURN'].value_counts()"
      ],
      "execution_count": null,
      "outputs": [
        {
          "output_type": "execute_result",
          "data": {
            "text/plain": [
              "0    87752\n",
              "1     5712\n",
              "Name: IS_CHURN, dtype: int64"
            ]
          },
          "metadata": {
            "tags": []
          },
          "execution_count": 115
        }
      ]
    },
    {
      "cell_type": "markdown",
      "metadata": {
        "id": "d6y3o4aUqhus"
      },
      "source": [
        "terdapat 5712 pelanggan yang akan berpindah (churn) ke provider yang lain"
      ]
    },
    {
      "cell_type": "code",
      "metadata": {
        "colab": {
          "base_uri": "https://localhost:8080/"
        },
        "id": "h7vxv35nHk5D",
        "outputId": "e031ba6f-4bb3-4f22-b9ec-86c757d6416a"
      },
      "source": [
        "file.isnull().sum()"
      ],
      "execution_count": null,
      "outputs": [
        {
          "output_type": "execute_result",
          "data": {
            "text/plain": [
              "WITEL                 0\n",
              "ID_CUSTOMER           0\n",
              "SPEED                 0\n",
              "PRODUCT               0\n",
              "TECHNO                0\n",
              "IS_USAGE_VOICE        0\n",
              "IS_USAGE_INET         0\n",
              "ARPU                  0\n",
              "RANGE_UMUR            0\n",
              "CLV                   0\n",
              "IS_CHURN              0\n",
              "BYTES             10645\n",
              "LIST_ASSET            0\n",
              "COMPLAINT             0\n",
              "USAGE                 0\n",
              "MINIPACK              0\n",
              "STB2                  0\n",
              "STB3                  0\n",
              "PLC                   0\n",
              "UPGRADE_SPEED         0\n",
              "WIFI_EXT              0\n",
              "INDIBOX               0\n",
              "GAME                  0\n",
              "dtype: int64"
            ]
          },
          "metadata": {
            "tags": []
          },
          "execution_count": 116
        }
      ]
    },
    {
      "cell_type": "markdown",
      "metadata": {
        "id": "g6IelQOLdKcg"
      },
      "source": [
        "Terdapat missing value sebanyak 10.645 pada variabel BYtes sehingga akan kita drop"
      ]
    },
    {
      "cell_type": "code",
      "metadata": {
        "id": "TVqW6IqEVX0C"
      },
      "source": [
        "file.dropna(axis=0,inplace=True)"
      ],
      "execution_count": null,
      "outputs": []
    },
    {
      "cell_type": "code",
      "metadata": {
        "colab": {
          "base_uri": "https://localhost:8080/",
          "height": 574
        },
        "id": "SMQ-iJHPXhi0",
        "outputId": "051a8077-0507-4196-cba8-a4c300b2fd44"
      },
      "source": [
        "file"
      ],
      "execution_count": null,
      "outputs": [
        {
          "output_type": "execute_result",
          "data": {
            "text/html": [
              "<div>\n",
              "<style scoped>\n",
              "    .dataframe tbody tr th:only-of-type {\n",
              "        vertical-align: middle;\n",
              "    }\n",
              "\n",
              "    .dataframe tbody tr th {\n",
              "        vertical-align: top;\n",
              "    }\n",
              "\n",
              "    .dataframe thead th {\n",
              "        text-align: right;\n",
              "    }\n",
              "</style>\n",
              "<table border=\"1\" class=\"dataframe\">\n",
              "  <thead>\n",
              "    <tr style=\"text-align: right;\">\n",
              "      <th></th>\n",
              "      <th>WITEL</th>\n",
              "      <th>ID_CUSTOMER</th>\n",
              "      <th>SPEED</th>\n",
              "      <th>PRODUCT</th>\n",
              "      <th>TECHNO</th>\n",
              "      <th>IS_USAGE_VOICE</th>\n",
              "      <th>IS_USAGE_INET</th>\n",
              "      <th>ARPU</th>\n",
              "      <th>RANGE_UMUR</th>\n",
              "      <th>CLV</th>\n",
              "      <th>IS_CHURN</th>\n",
              "      <th>BYTES</th>\n",
              "      <th>LIST_ASSET</th>\n",
              "      <th>COMPLAINT</th>\n",
              "      <th>USAGE</th>\n",
              "      <th>MINIPACK</th>\n",
              "      <th>STB2</th>\n",
              "      <th>STB3</th>\n",
              "      <th>PLC</th>\n",
              "      <th>UPGRADE_SPEED</th>\n",
              "      <th>WIFI_EXT</th>\n",
              "      <th>INDIBOX</th>\n",
              "      <th>GAME</th>\n",
              "    </tr>\n",
              "  </thead>\n",
              "  <tbody>\n",
              "    <tr>\n",
              "      <th>0</th>\n",
              "      <td>BN</td>\n",
              "      <td>101</td>\n",
              "      <td>20480</td>\n",
              "      <td>Paket A</td>\n",
              "      <td>FIBER</td>\n",
              "      <td>0</td>\n",
              "      <td>1</td>\n",
              "      <td>308000</td>\n",
              "      <td>c. 7-12 bln</td>\n",
              "      <td>2156000</td>\n",
              "      <td>0</td>\n",
              "      <td>5.050000e+11</td>\n",
              "      <td>3</td>\n",
              "      <td>0</td>\n",
              "      <td>&gt;200 GB</td>\n",
              "      <td>0</td>\n",
              "      <td>0</td>\n",
              "      <td>0</td>\n",
              "      <td>0</td>\n",
              "      <td>0</td>\n",
              "      <td>0</td>\n",
              "      <td>0</td>\n",
              "      <td>0</td>\n",
              "    </tr>\n",
              "    <tr>\n",
              "      <th>1</th>\n",
              "      <td>JT</td>\n",
              "      <td>102</td>\n",
              "      <td>10240</td>\n",
              "      <td>Paket B</td>\n",
              "      <td>FIBER</td>\n",
              "      <td>0</td>\n",
              "      <td>1</td>\n",
              "      <td>375651</td>\n",
              "      <td>d. 1-2 thn</td>\n",
              "      <td>7513020</td>\n",
              "      <td>0</td>\n",
              "      <td>1.850000e+11</td>\n",
              "      <td>7</td>\n",
              "      <td>3</td>\n",
              "      <td>100GB-200GB</td>\n",
              "      <td>0</td>\n",
              "      <td>0</td>\n",
              "      <td>0</td>\n",
              "      <td>0</td>\n",
              "      <td>0</td>\n",
              "      <td>0</td>\n",
              "      <td>0</td>\n",
              "      <td>0</td>\n",
              "    </tr>\n",
              "    <tr>\n",
              "      <th>2</th>\n",
              "      <td>JS</td>\n",
              "      <td>103</td>\n",
              "      <td>30720</td>\n",
              "      <td>Paket B</td>\n",
              "      <td>FIBER</td>\n",
              "      <td>0</td>\n",
              "      <td>1</td>\n",
              "      <td>455400</td>\n",
              "      <td>d. 1-2 thn</td>\n",
              "      <td>5464800</td>\n",
              "      <td>0</td>\n",
              "      <td>8.670000e+11</td>\n",
              "      <td>6</td>\n",
              "      <td>5</td>\n",
              "      <td>&gt;200 GB</td>\n",
              "      <td>2</td>\n",
              "      <td>0</td>\n",
              "      <td>0</td>\n",
              "      <td>0</td>\n",
              "      <td>0</td>\n",
              "      <td>0</td>\n",
              "      <td>0</td>\n",
              "      <td>0</td>\n",
              "    </tr>\n",
              "    <tr>\n",
              "      <th>3</th>\n",
              "      <td>BR</td>\n",
              "      <td>104</td>\n",
              "      <td>51200</td>\n",
              "      <td>Paket B</td>\n",
              "      <td>FIBER</td>\n",
              "      <td>0</td>\n",
              "      <td>1</td>\n",
              "      <td>830500</td>\n",
              "      <td>e. 3-4 thn</td>\n",
              "      <td>39033500</td>\n",
              "      <td>0</td>\n",
              "      <td>2.170000e+11</td>\n",
              "      <td>13</td>\n",
              "      <td>7</td>\n",
              "      <td>&gt;200 GB</td>\n",
              "      <td>4</td>\n",
              "      <td>1</td>\n",
              "      <td>0</td>\n",
              "      <td>0</td>\n",
              "      <td>0</td>\n",
              "      <td>0</td>\n",
              "      <td>0</td>\n",
              "      <td>0</td>\n",
              "    </tr>\n",
              "    <tr>\n",
              "      <th>4</th>\n",
              "      <td>JT</td>\n",
              "      <td>105</td>\n",
              "      <td>10240</td>\n",
              "      <td>Paket A</td>\n",
              "      <td>FIBER</td>\n",
              "      <td>0</td>\n",
              "      <td>1</td>\n",
              "      <td>236500</td>\n",
              "      <td>a. 0-3 bln</td>\n",
              "      <td>473000</td>\n",
              "      <td>0</td>\n",
              "      <td>1.930000e+11</td>\n",
              "      <td>2</td>\n",
              "      <td>1</td>\n",
              "      <td>100GB-200GB</td>\n",
              "      <td>0</td>\n",
              "      <td>0</td>\n",
              "      <td>0</td>\n",
              "      <td>0</td>\n",
              "      <td>0</td>\n",
              "      <td>0</td>\n",
              "      <td>0</td>\n",
              "      <td>0</td>\n",
              "    </tr>\n",
              "    <tr>\n",
              "      <th>...</th>\n",
              "      <td>...</td>\n",
              "      <td>...</td>\n",
              "      <td>...</td>\n",
              "      <td>...</td>\n",
              "      <td>...</td>\n",
              "      <td>...</td>\n",
              "      <td>...</td>\n",
              "      <td>...</td>\n",
              "      <td>...</td>\n",
              "      <td>...</td>\n",
              "      <td>...</td>\n",
              "      <td>...</td>\n",
              "      <td>...</td>\n",
              "      <td>...</td>\n",
              "      <td>...</td>\n",
              "      <td>...</td>\n",
              "      <td>...</td>\n",
              "      <td>...</td>\n",
              "      <td>...</td>\n",
              "      <td>...</td>\n",
              "      <td>...</td>\n",
              "      <td>...</td>\n",
              "      <td>...</td>\n",
              "    </tr>\n",
              "    <tr>\n",
              "      <th>93457</th>\n",
              "      <td>TG</td>\n",
              "      <td>93558</td>\n",
              "      <td>10240</td>\n",
              "      <td>Paket A</td>\n",
              "      <td>FIBER</td>\n",
              "      <td>0</td>\n",
              "      <td>1</td>\n",
              "      <td>324500</td>\n",
              "      <td>e. 3-4 thn</td>\n",
              "      <td>7788000</td>\n",
              "      <td>1</td>\n",
              "      <td>1.810000e+11</td>\n",
              "      <td>5</td>\n",
              "      <td>3</td>\n",
              "      <td>100GB-200GB</td>\n",
              "      <td>0</td>\n",
              "      <td>0</td>\n",
              "      <td>0</td>\n",
              "      <td>0</td>\n",
              "      <td>0</td>\n",
              "      <td>0</td>\n",
              "      <td>0</td>\n",
              "      <td>0</td>\n",
              "    </tr>\n",
              "    <tr>\n",
              "      <th>93459</th>\n",
              "      <td>JS</td>\n",
              "      <td>93560</td>\n",
              "      <td>10240</td>\n",
              "      <td>Paket B</td>\n",
              "      <td>NON FIBER</td>\n",
              "      <td>0</td>\n",
              "      <td>1</td>\n",
              "      <td>440000</td>\n",
              "      <td>d. 1-2 thn</td>\n",
              "      <td>8360000</td>\n",
              "      <td>1</td>\n",
              "      <td>2.610000e+11</td>\n",
              "      <td>5</td>\n",
              "      <td>1</td>\n",
              "      <td>&gt;200 GB</td>\n",
              "      <td>0</td>\n",
              "      <td>0</td>\n",
              "      <td>0</td>\n",
              "      <td>0</td>\n",
              "      <td>0</td>\n",
              "      <td>0</td>\n",
              "      <td>0</td>\n",
              "      <td>0</td>\n",
              "    </tr>\n",
              "    <tr>\n",
              "      <th>93460</th>\n",
              "      <td>JT</td>\n",
              "      <td>93561</td>\n",
              "      <td>10240</td>\n",
              "      <td>Paket B</td>\n",
              "      <td>FIBER</td>\n",
              "      <td>0</td>\n",
              "      <td>1</td>\n",
              "      <td>446600</td>\n",
              "      <td>d. 1-2 thn</td>\n",
              "      <td>7592200</td>\n",
              "      <td>1</td>\n",
              "      <td>7.420451e+10</td>\n",
              "      <td>6</td>\n",
              "      <td>1</td>\n",
              "      <td>20GB-100 GB</td>\n",
              "      <td>1</td>\n",
              "      <td>0</td>\n",
              "      <td>0</td>\n",
              "      <td>0</td>\n",
              "      <td>0</td>\n",
              "      <td>0</td>\n",
              "      <td>0</td>\n",
              "      <td>0</td>\n",
              "    </tr>\n",
              "    <tr>\n",
              "      <th>93461</th>\n",
              "      <td>BS</td>\n",
              "      <td>93562</td>\n",
              "      <td>10240</td>\n",
              "      <td>Paket B</td>\n",
              "      <td>FIBER</td>\n",
              "      <td>0</td>\n",
              "      <td>1</td>\n",
              "      <td>379500</td>\n",
              "      <td>e. 3-4 thn</td>\n",
              "      <td>12903000</td>\n",
              "      <td>1</td>\n",
              "      <td>6.371452e+06</td>\n",
              "      <td>4</td>\n",
              "      <td>0</td>\n",
              "      <td>&lt; 20GB</td>\n",
              "      <td>0</td>\n",
              "      <td>0</td>\n",
              "      <td>0</td>\n",
              "      <td>0</td>\n",
              "      <td>0</td>\n",
              "      <td>0</td>\n",
              "      <td>0</td>\n",
              "      <td>0</td>\n",
              "    </tr>\n",
              "    <tr>\n",
              "      <th>93463</th>\n",
              "      <td>TG</td>\n",
              "      <td>93564</td>\n",
              "      <td>10240</td>\n",
              "      <td>Paket B</td>\n",
              "      <td>FIBER</td>\n",
              "      <td>0</td>\n",
              "      <td>0</td>\n",
              "      <td>82500</td>\n",
              "      <td>d. 1-2 thn</td>\n",
              "      <td>1072500</td>\n",
              "      <td>1</td>\n",
              "      <td>1.698882e+10</td>\n",
              "      <td>1</td>\n",
              "      <td>0</td>\n",
              "      <td>&lt; 20GB</td>\n",
              "      <td>0</td>\n",
              "      <td>0</td>\n",
              "      <td>0</td>\n",
              "      <td>0</td>\n",
              "      <td>0</td>\n",
              "      <td>0</td>\n",
              "      <td>0</td>\n",
              "      <td>0</td>\n",
              "    </tr>\n",
              "  </tbody>\n",
              "</table>\n",
              "<p>82819 rows × 23 columns</p>\n",
              "</div>"
            ],
            "text/plain": [
              "      WITEL  ID_CUSTOMER  SPEED  ... WIFI_EXT INDIBOX  GAME\n",
              "0        BN          101  20480  ...        0       0     0\n",
              "1        JT          102  10240  ...        0       0     0\n",
              "2        JS          103  30720  ...        0       0     0\n",
              "3        BR          104  51200  ...        0       0     0\n",
              "4        JT          105  10240  ...        0       0     0\n",
              "...     ...          ...    ...  ...      ...     ...   ...\n",
              "93457    TG        93558  10240  ...        0       0     0\n",
              "93459    JS        93560  10240  ...        0       0     0\n",
              "93460    JT        93561  10240  ...        0       0     0\n",
              "93461    BS        93562  10240  ...        0       0     0\n",
              "93463    TG        93564  10240  ...        0       0     0\n",
              "\n",
              "[82819 rows x 23 columns]"
            ]
          },
          "metadata": {
            "tags": []
          },
          "execution_count": 118
        }
      ]
    },
    {
      "cell_type": "code",
      "metadata": {
        "colab": {
          "base_uri": "https://localhost:8080/"
        },
        "id": "RxPWdmexXkKn",
        "outputId": "15dbce2a-2866-47ce-edb3-e57c9574e6fe"
      },
      "source": [
        "file.isnull().sum()"
      ],
      "execution_count": null,
      "outputs": [
        {
          "output_type": "execute_result",
          "data": {
            "text/plain": [
              "WITEL             0\n",
              "ID_CUSTOMER       0\n",
              "SPEED             0\n",
              "PRODUCT           0\n",
              "TECHNO            0\n",
              "IS_USAGE_VOICE    0\n",
              "IS_USAGE_INET     0\n",
              "ARPU              0\n",
              "RANGE_UMUR        0\n",
              "CLV               0\n",
              "IS_CHURN          0\n",
              "BYTES             0\n",
              "LIST_ASSET        0\n",
              "COMPLAINT         0\n",
              "USAGE             0\n",
              "MINIPACK          0\n",
              "STB2              0\n",
              "STB3              0\n",
              "PLC               0\n",
              "UPGRADE_SPEED     0\n",
              "WIFI_EXT          0\n",
              "INDIBOX           0\n",
              "GAME              0\n",
              "dtype: int64"
            ]
          },
          "metadata": {
            "tags": []
          },
          "execution_count": 119
        }
      ]
    },
    {
      "cell_type": "markdown",
      "metadata": {
        "id": "wA795buGdp65"
      },
      "source": [
        "Karena efek dari drop missing value itu banyaknya row menjadi 82819 row"
      ]
    },
    {
      "cell_type": "code",
      "metadata": {
        "id": "ud5E6JixrDmS",
        "colab": {
          "base_uri": "https://localhost:8080/"
        },
        "outputId": "8faad565-ba38-4cd2-b391-82b9b065705a"
      },
      "source": [
        "file['ARPU'].value_counts()"
      ],
      "execution_count": null,
      "outputs": [
        {
          "output_type": "execute_result",
          "data": {
            "text/plain": [
              "308000    6243\n",
              "352000    4387\n",
              "363000    2203\n",
              "396000    1934\n",
              "379500    1853\n",
              "          ... \n",
              "110294       1\n",
              "343748       1\n",
              "593602       1\n",
              "464577       1\n",
              "409240       1\n",
              "Name: ARPU, Length: 16719, dtype: int64"
            ]
          },
          "metadata": {
            "tags": []
          },
          "execution_count": 120
        }
      ]
    },
    {
      "cell_type": "code",
      "metadata": {
        "colab": {
          "base_uri": "https://localhost:8080/"
        },
        "id": "vZaiR3GFB7a1",
        "outputId": "1f3225ad-4224-448b-e780-625a505e1c89"
      },
      "source": [
        "file['PRODUCT'].unique()"
      ],
      "execution_count": null,
      "outputs": [
        {
          "output_type": "execute_result",
          "data": {
            "text/plain": [
              "array(['Paket A', 'Paket B'], dtype=object)"
            ]
          },
          "metadata": {
            "tags": []
          },
          "execution_count": 121
        }
      ]
    },
    {
      "cell_type": "markdown",
      "metadata": {
        "id": "QFK54U2nAYnw"
      },
      "source": [
        "#A. Analisis statistik deskriptif ARPU, CLV, BYTES dan IS_CHURN berdasarkan kelompok produk"
      ]
    },
    {
      "cell_type": "code",
      "metadata": {
        "colab": {
          "base_uri": "https://localhost:8080/"
        },
        "id": "8n0MCVEIAdsV",
        "outputId": "c470b774-9e7d-41fa-9438-2582761fc9dd"
      },
      "source": [
        "file[['ARPU','CLV','BYTES','IS_CHURN']].groupby([file['PRODUCT']]).mean()"
      ],
      "execution_count": null,
      "outputs": [
        {
          "output_type": "execute_result",
          "data": {
            "text/html": [
              "<div>\n",
              "<style scoped>\n",
              "    .dataframe tbody tr th:only-of-type {\n",
              "        vertical-align: middle;\n",
              "    }\n",
              "\n",
              "    .dataframe tbody tr th {\n",
              "        vertical-align: top;\n",
              "    }\n",
              "\n",
              "    .dataframe thead th {\n",
              "        text-align: right;\n",
              "    }\n",
              "</style>\n",
              "<table border=\"1\" class=\"dataframe\">\n",
              "  <thead>\n",
              "    <tr style=\"text-align: right;\">\n",
              "      <th></th>\n",
              "      <th>ARPU</th>\n",
              "      <th>CLV</th>\n",
              "      <th>BYTES</th>\n",
              "      <th>IS_CHURN</th>\n",
              "    </tr>\n",
              "    <tr>\n",
              "      <th>PRODUCT</th>\n",
              "      <th></th>\n",
              "      <th></th>\n",
              "      <th></th>\n",
              "      <th></th>\n",
              "    </tr>\n",
              "  </thead>\n",
              "  <tbody>\n",
              "    <tr>\n",
              "      <th>Paket A</th>\n",
              "      <td>341834.071174</td>\n",
              "      <td>1.007413e+07</td>\n",
              "      <td>2.947149e+11</td>\n",
              "      <td>0.007468</td>\n",
              "    </tr>\n",
              "    <tr>\n",
              "      <th>Paket B</th>\n",
              "      <td>457323.315904</td>\n",
              "      <td>1.400026e+07</td>\n",
              "      <td>2.913495e+11</td>\n",
              "      <td>0.092098</td>\n",
              "    </tr>\n",
              "  </tbody>\n",
              "</table>\n",
              "</div>"
            ],
            "text/plain": [
              "                  ARPU           CLV         BYTES  IS_CHURN\n",
              "PRODUCT                                                     \n",
              "Paket A  341834.071174  1.007413e+07  2.947149e+11  0.007468\n",
              "Paket B  457323.315904  1.400026e+07  2.913495e+11  0.092098"
            ]
          },
          "metadata": {
            "tags": []
          },
          "execution_count": 122
        }
      ]
    },
    {
      "cell_type": "markdown",
      "metadata": {
        "id": "5FX3a0kFUr2_"
      },
      "source": [
        "Terlihat bahwa rata-rata 'ARPU' atau '(pendapatan rata-rata per pengguna)' pada paket B lebih besar 115,489 daripada paket A artinya pelanggan paket B memiliki pendapatan yang lebih tinggi dari pendapatan pelanggan paket A\n",
        "\n",
        "Rata-rata Nilai umur pelanggan atau 'CLV' dari paket B juga lebih panjang dibandingkan dengan produk A artinya paket B lebih memberi nilai kepada pelanggannya daripada paket A\n",
        "\n",
        "Tetapi penggunaan rata-rata per bytes pada paket B lebih kecil daripada paket A\n",
        "\n",
        "sehingga rata-rata Pelanggan paket B lebih mudah pindah ke provider lain ( Churn ) daripada pelanggan paket A"
      ]
    },
    {
      "cell_type": "code",
      "metadata": {
        "colab": {
          "base_uri": "https://localhost:8080/"
        },
        "id": "JsVzq4uBD-dg",
        "outputId": "e45f5254-adb7-4553-ea57-be075d61ceae"
      },
      "source": [
        "file[['ARPU','CLV','BYTES','IS_CHURN']].groupby([file['PRODUCT']]).median()"
      ],
      "execution_count": null,
      "outputs": [
        {
          "output_type": "execute_result",
          "data": {
            "text/html": [
              "<div>\n",
              "<style scoped>\n",
              "    .dataframe tbody tr th:only-of-type {\n",
              "        vertical-align: middle;\n",
              "    }\n",
              "\n",
              "    .dataframe tbody tr th {\n",
              "        vertical-align: top;\n",
              "    }\n",
              "\n",
              "    .dataframe thead th {\n",
              "        text-align: right;\n",
              "    }\n",
              "</style>\n",
              "<table border=\"1\" class=\"dataframe\">\n",
              "  <thead>\n",
              "    <tr style=\"text-align: right;\">\n",
              "      <th></th>\n",
              "      <th>ARPU</th>\n",
              "      <th>CLV</th>\n",
              "      <th>BYTES</th>\n",
              "      <th>IS_CHURN</th>\n",
              "    </tr>\n",
              "    <tr>\n",
              "      <th>PRODUCT</th>\n",
              "      <th></th>\n",
              "      <th></th>\n",
              "      <th></th>\n",
              "      <th></th>\n",
              "    </tr>\n",
              "  </thead>\n",
              "  <tbody>\n",
              "    <tr>\n",
              "      <th>Paket A</th>\n",
              "      <td>308495</td>\n",
              "      <td>5280000</td>\n",
              "      <td>2.340000e+11</td>\n",
              "      <td>0</td>\n",
              "    </tr>\n",
              "    <tr>\n",
              "      <th>Paket B</th>\n",
              "      <td>412500</td>\n",
              "      <td>8602000</td>\n",
              "      <td>2.450000e+11</td>\n",
              "      <td>0</td>\n",
              "    </tr>\n",
              "  </tbody>\n",
              "</table>\n",
              "</div>"
            ],
            "text/plain": [
              "           ARPU      CLV         BYTES  IS_CHURN\n",
              "PRODUCT                                         \n",
              "Paket A  308495  5280000  2.340000e+11         0\n",
              "Paket B  412500  8602000  2.450000e+11         0"
            ]
          },
          "metadata": {
            "tags": []
          },
          "execution_count": 123
        }
      ]
    },
    {
      "cell_type": "markdown",
      "metadata": {
        "id": "KfVFq3xuX0p9"
      },
      "source": [
        "Nilai tengah pendapatan rata-rata per pengguna pada paket B lebih besar dibandingkan dengan paket A selisihnya sekitar 104005\n",
        "\n",
        "Nilai tengah CLV pada paket A lebih kecil dibandingkan dengan paket B\n",
        "\n",
        "meski produk A memiliki rata-rata bytes lebih besar dibandingkan paket B tetapi di Median ini paket memilki nilia lebih kecil dibandingkan paket B"
      ]
    },
    {
      "cell_type": "code",
      "metadata": {
        "colab": {
          "base_uri": "https://localhost:8080/"
        },
        "id": "rv-qoRnQEGWJ",
        "outputId": "bbc4e4cd-006e-43ec-e275-5bf18bc05c9c"
      },
      "source": [
        "file[['ARPU','CLV','BYTES','IS_CHURN']].groupby([file['PRODUCT']]).sum()"
      ],
      "execution_count": null,
      "outputs": [
        {
          "output_type": "execute_result",
          "data": {
            "text/html": [
              "<div>\n",
              "<style scoped>\n",
              "    .dataframe tbody tr th:only-of-type {\n",
              "        vertical-align: middle;\n",
              "    }\n",
              "\n",
              "    .dataframe tbody tr th {\n",
              "        vertical-align: top;\n",
              "    }\n",
              "\n",
              "    .dataframe thead th {\n",
              "        text-align: right;\n",
              "    }\n",
              "</style>\n",
              "<table border=\"1\" class=\"dataframe\">\n",
              "  <thead>\n",
              "    <tr style=\"text-align: right;\">\n",
              "      <th></th>\n",
              "      <th>ARPU</th>\n",
              "      <th>CLV</th>\n",
              "      <th>BYTES</th>\n",
              "      <th>IS_CHURN</th>\n",
              "    </tr>\n",
              "    <tr>\n",
              "      <th>PRODUCT</th>\n",
              "      <th></th>\n",
              "      <th></th>\n",
              "      <th></th>\n",
              "      <th></th>\n",
              "    </tr>\n",
              "  </thead>\n",
              "  <tbody>\n",
              "    <tr>\n",
              "      <th>Paket A</th>\n",
              "      <td>11214550373</td>\n",
              "      <td>330501854088</td>\n",
              "      <td>9.668712e+15</td>\n",
              "      <td>245</td>\n",
              "    </tr>\n",
              "    <tr>\n",
              "      <th>Paket B</th>\n",
              "      <td>22871653675</td>\n",
              "      <td>700180918482</td>\n",
              "      <td>1.457097e+16</td>\n",
              "      <td>4606</td>\n",
              "    </tr>\n",
              "  </tbody>\n",
              "</table>\n",
              "</div>"
            ],
            "text/plain": [
              "                ARPU           CLV         BYTES  IS_CHURN\n",
              "PRODUCT                                                   \n",
              "Paket A  11214550373  330501854088  9.668712e+15       245\n",
              "Paket B  22871653675  700180918482  1.457097e+16      4606"
            ]
          },
          "metadata": {
            "tags": []
          },
          "execution_count": 124
        }
      ]
    },
    {
      "cell_type": "markdown",
      "metadata": {
        "id": "azD-yJvSZWZZ"
      },
      "source": [
        "Hasil dari statistik diatas bahwa jumlah paket B Churn sebanyak 4.606 orang sedangkan pada paket A Churn sebanyak 245 orang"
      ]
    },
    {
      "cell_type": "code",
      "metadata": {
        "colab": {
          "base_uri": "https://localhost:8080/"
        },
        "id": "pJc1ZJzgE5Q_",
        "outputId": "beb370ec-0374-4592-824f-c5acbb750e19"
      },
      "source": [
        "file[['ARPU','CLV','BYTES','IS_CHURN']].groupby([file['PRODUCT']]).min()"
      ],
      "execution_count": null,
      "outputs": [
        {
          "output_type": "execute_result",
          "data": {
            "text/html": [
              "<div>\n",
              "<style scoped>\n",
              "    .dataframe tbody tr th:only-of-type {\n",
              "        vertical-align: middle;\n",
              "    }\n",
              "\n",
              "    .dataframe tbody tr th {\n",
              "        vertical-align: top;\n",
              "    }\n",
              "\n",
              "    .dataframe thead th {\n",
              "        text-align: right;\n",
              "    }\n",
              "</style>\n",
              "<table border=\"1\" class=\"dataframe\">\n",
              "  <thead>\n",
              "    <tr style=\"text-align: right;\">\n",
              "      <th></th>\n",
              "      <th>ARPU</th>\n",
              "      <th>CLV</th>\n",
              "      <th>BYTES</th>\n",
              "      <th>IS_CHURN</th>\n",
              "    </tr>\n",
              "    <tr>\n",
              "      <th>PRODUCT</th>\n",
              "      <th></th>\n",
              "      <th></th>\n",
              "      <th></th>\n",
              "      <th></th>\n",
              "    </tr>\n",
              "  </thead>\n",
              "  <tbody>\n",
              "    <tr>\n",
              "      <th>Paket A</th>\n",
              "      <td>0</td>\n",
              "      <td>0</td>\n",
              "      <td>144.0</td>\n",
              "      <td>0</td>\n",
              "    </tr>\n",
              "    <tr>\n",
              "      <th>Paket B</th>\n",
              "      <td>0</td>\n",
              "      <td>0</td>\n",
              "      <td>708.0</td>\n",
              "      <td>0</td>\n",
              "    </tr>\n",
              "  </tbody>\n",
              "</table>\n",
              "</div>"
            ],
            "text/plain": [
              "         ARPU  CLV  BYTES  IS_CHURN\n",
              "PRODUCT                            \n",
              "Paket A     0    0  144.0         0\n",
              "Paket B     0    0  708.0         0"
            ]
          },
          "metadata": {
            "tags": []
          },
          "execution_count": 125
        }
      ]
    },
    {
      "cell_type": "markdown",
      "metadata": {
        "id": "HbAlxNZxZyPm"
      },
      "source": [
        "penggunaan bytes paket A lebih kecil dibandingkan dengan paket B"
      ]
    },
    {
      "cell_type": "code",
      "metadata": {
        "colab": {
          "base_uri": "https://localhost:8080/"
        },
        "id": "ACgIQb6QE7iv",
        "outputId": "a34171f8-8870-4ae1-ac36-1d9ffeab5143"
      },
      "source": [
        "file[['ARPU','CLV','BYTES','IS_CHURN']].groupby([file['PRODUCT']]).max()"
      ],
      "execution_count": null,
      "outputs": [
        {
          "output_type": "execute_result",
          "data": {
            "text/html": [
              "<div>\n",
              "<style scoped>\n",
              "    .dataframe tbody tr th:only-of-type {\n",
              "        vertical-align: middle;\n",
              "    }\n",
              "\n",
              "    .dataframe tbody tr th {\n",
              "        vertical-align: top;\n",
              "    }\n",
              "\n",
              "    .dataframe thead th {\n",
              "        text-align: right;\n",
              "    }\n",
              "</style>\n",
              "<table border=\"1\" class=\"dataframe\">\n",
              "  <thead>\n",
              "    <tr style=\"text-align: right;\">\n",
              "      <th></th>\n",
              "      <th>ARPU</th>\n",
              "      <th>CLV</th>\n",
              "      <th>BYTES</th>\n",
              "      <th>IS_CHURN</th>\n",
              "    </tr>\n",
              "    <tr>\n",
              "      <th>PRODUCT</th>\n",
              "      <th></th>\n",
              "      <th></th>\n",
              "      <th></th>\n",
              "      <th></th>\n",
              "    </tr>\n",
              "  </thead>\n",
              "  <tbody>\n",
              "    <tr>\n",
              "      <th>Paket A</th>\n",
              "      <td>3679753</td>\n",
              "      <td>205890048</td>\n",
              "      <td>2.530000e+13</td>\n",
              "      <td>1</td>\n",
              "    </tr>\n",
              "    <tr>\n",
              "      <th>Paket B</th>\n",
              "      <td>4452878</td>\n",
              "      <td>335851490</td>\n",
              "      <td>2.190000e+13</td>\n",
              "      <td>1</td>\n",
              "    </tr>\n",
              "  </tbody>\n",
              "</table>\n",
              "</div>"
            ],
            "text/plain": [
              "            ARPU        CLV         BYTES  IS_CHURN\n",
              "PRODUCT                                            \n",
              "Paket A  3679753  205890048  2.530000e+13         1\n",
              "Paket B  4452878  335851490  2.190000e+13         1"
            ]
          },
          "metadata": {
            "tags": []
          },
          "execution_count": 126
        }
      ]
    },
    {
      "cell_type": "markdown",
      "metadata": {
        "id": "JI-_cZZ-aCiD"
      },
      "source": [
        "Nilai Maximal ARPU pada paket B lebih besar diabndingkan dengan paket A\n",
        "\n",
        "Nilai maximal CLV paket B juga masih lebih panjang dibandingkan paket A\n",
        "\n",
        "sedangkan nilai maximal bytes pada paket A lebih besar dari paket B\n",
        "\n",
        "Tetapi tingkat max Churn pada paket A dan B sama "
      ]
    },
    {
      "cell_type": "code",
      "metadata": {
        "colab": {
          "base_uri": "https://localhost:8080/"
        },
        "id": "ZbtL6UkDE9jk",
        "outputId": "913e3895-9774-4beb-b64f-8eee99f63f46"
      },
      "source": [
        "file[['ARPU','CLV','BYTES','IS_CHURN']].groupby([file['PRODUCT']]).std()"
      ],
      "execution_count": null,
      "outputs": [
        {
          "output_type": "execute_result",
          "data": {
            "text/html": [
              "<div>\n",
              "<style scoped>\n",
              "    .dataframe tbody tr th:only-of-type {\n",
              "        vertical-align: middle;\n",
              "    }\n",
              "\n",
              "    .dataframe tbody tr th {\n",
              "        vertical-align: top;\n",
              "    }\n",
              "\n",
              "    .dataframe thead th {\n",
              "        text-align: right;\n",
              "    }\n",
              "</style>\n",
              "<table border=\"1\" class=\"dataframe\">\n",
              "  <thead>\n",
              "    <tr style=\"text-align: right;\">\n",
              "      <th></th>\n",
              "      <th>ARPU</th>\n",
              "      <th>CLV</th>\n",
              "      <th>BYTES</th>\n",
              "      <th>IS_CHURN</th>\n",
              "    </tr>\n",
              "    <tr>\n",
              "      <th>PRODUCT</th>\n",
              "      <th></th>\n",
              "      <th></th>\n",
              "      <th></th>\n",
              "      <th></th>\n",
              "    </tr>\n",
              "  </thead>\n",
              "  <tbody>\n",
              "    <tr>\n",
              "      <th>Paket A</th>\n",
              "      <td>143431.302448</td>\n",
              "      <td>1.424041e+07</td>\n",
              "      <td>4.099911e+11</td>\n",
              "      <td>0.086095</td>\n",
              "    </tr>\n",
              "    <tr>\n",
              "      <th>Paket B</th>\n",
              "      <td>204098.306869</td>\n",
              "      <td>1.696442e+07</td>\n",
              "      <td>3.191340e+11</td>\n",
              "      <td>0.289167</td>\n",
              "    </tr>\n",
              "  </tbody>\n",
              "</table>\n",
              "</div>"
            ],
            "text/plain": [
              "                  ARPU           CLV         BYTES  IS_CHURN\n",
              "PRODUCT                                                     \n",
              "Paket A  143431.302448  1.424041e+07  4.099911e+11  0.086095\n",
              "Paket B  204098.306869  1.696442e+07  3.191340e+11  0.289167"
            ]
          },
          "metadata": {
            "tags": []
          },
          "execution_count": 127
        }
      ]
    },
    {
      "cell_type": "markdown",
      "metadata": {
        "id": "iawpPs5Na6cz"
      },
      "source": [
        "tingkat heterogen elemen data ARPU dan CLV pada paket B lebih besar dibandingkan dengan paket A\n",
        "\n",
        "sedangkan standar deviasi untuk Bytes paket A lebih besar dari B\n",
        "\n",
        "sehingga Churn dari paket A lebih kecil dibandingkan paket B"
      ]
    },
    {
      "cell_type": "code",
      "metadata": {
        "id": "MWdykrTIFMWE"
      },
      "source": [
        ""
      ],
      "execution_count": null,
      "outputs": []
    },
    {
      "cell_type": "markdown",
      "metadata": {
        "id": "WfHqC9qBFUsQ"
      },
      "source": [
        "#B. Analisis statistik deskriptif ARPU, CLV, BYTES dan IS_CHURN berdasarkan kelompok pelanggan"
      ]
    },
    {
      "cell_type": "code",
      "metadata": {
        "colab": {
          "base_uri": "https://localhost:8080/"
        },
        "id": "9zKsZ4ZgFZt5",
        "outputId": "bf1054bf-d8ba-4575-8e4c-79e3e5f5e5e9"
      },
      "source": [
        "file[['ARPU','CLV','BYTES','IS_CHURN']].groupby([file['WITEL']]).mean()"
      ],
      "execution_count": null,
      "outputs": [
        {
          "output_type": "execute_result",
          "data": {
            "text/html": [
              "<div>\n",
              "<style scoped>\n",
              "    .dataframe tbody tr th:only-of-type {\n",
              "        vertical-align: middle;\n",
              "    }\n",
              "\n",
              "    .dataframe tbody tr th {\n",
              "        vertical-align: top;\n",
              "    }\n",
              "\n",
              "    .dataframe thead th {\n",
              "        text-align: right;\n",
              "    }\n",
              "</style>\n",
              "<table border=\"1\" class=\"dataframe\">\n",
              "  <thead>\n",
              "    <tr style=\"text-align: right;\">\n",
              "      <th></th>\n",
              "      <th>ARPU</th>\n",
              "      <th>CLV</th>\n",
              "      <th>BYTES</th>\n",
              "      <th>IS_CHURN</th>\n",
              "    </tr>\n",
              "    <tr>\n",
              "      <th>WITEL</th>\n",
              "      <th></th>\n",
              "      <th></th>\n",
              "      <th></th>\n",
              "      <th></th>\n",
              "    </tr>\n",
              "  </thead>\n",
              "  <tbody>\n",
              "    <tr>\n",
              "      <th>BN</th>\n",
              "      <td>396515.978923</td>\n",
              "      <td>1.049939e+07</td>\n",
              "      <td>3.608374e+11</td>\n",
              "      <td>0.070592</td>\n",
              "    </tr>\n",
              "    <tr>\n",
              "      <th>BR</th>\n",
              "      <td>399505.514219</td>\n",
              "      <td>1.235757e+07</td>\n",
              "      <td>2.978411e+11</td>\n",
              "      <td>0.028680</td>\n",
              "    </tr>\n",
              "    <tr>\n",
              "      <th>BS</th>\n",
              "      <td>396917.237876</td>\n",
              "      <td>1.100719e+07</td>\n",
              "      <td>2.911738e+11</td>\n",
              "      <td>0.062685</td>\n",
              "    </tr>\n",
              "    <tr>\n",
              "      <th>JB</th>\n",
              "      <td>447113.858113</td>\n",
              "      <td>1.490539e+07</td>\n",
              "      <td>2.875741e+11</td>\n",
              "      <td>0.060829</td>\n",
              "    </tr>\n",
              "    <tr>\n",
              "      <th>JS</th>\n",
              "      <td>433321.023914</td>\n",
              "      <td>1.374546e+07</td>\n",
              "      <td>2.811715e+11</td>\n",
              "      <td>0.062007</td>\n",
              "    </tr>\n",
              "    <tr>\n",
              "      <th>JT</th>\n",
              "      <td>408106.368618</td>\n",
              "      <td>1.285531e+07</td>\n",
              "      <td>2.814973e+11</td>\n",
              "      <td>0.071250</td>\n",
              "    </tr>\n",
              "    <tr>\n",
              "      <th>TG</th>\n",
              "      <td>408757.085852</td>\n",
              "      <td>1.149175e+07</td>\n",
              "      <td>2.890617e+11</td>\n",
              "      <td>0.052613</td>\n",
              "    </tr>\n",
              "  </tbody>\n",
              "</table>\n",
              "</div>"
            ],
            "text/plain": [
              "                ARPU           CLV         BYTES  IS_CHURN\n",
              "WITEL                                                     \n",
              "BN     396515.978923  1.049939e+07  3.608374e+11  0.070592\n",
              "BR     399505.514219  1.235757e+07  2.978411e+11  0.028680\n",
              "BS     396917.237876  1.100719e+07  2.911738e+11  0.062685\n",
              "JB     447113.858113  1.490539e+07  2.875741e+11  0.060829\n",
              "JS     433321.023914  1.374546e+07  2.811715e+11  0.062007\n",
              "JT     408106.368618  1.285531e+07  2.814973e+11  0.071250\n",
              "TG     408757.085852  1.149175e+07  2.890617e+11  0.052613"
            ]
          },
          "metadata": {
            "tags": []
          },
          "execution_count": 129
        }
      ]
    },
    {
      "cell_type": "markdown",
      "metadata": {
        "id": "_KdbC5RccTC-"
      },
      "source": [
        "Rata-rata ( pendapatan rata-rata per pengguna )/ ARPU pelanggan pada witel JB lebih besar dibandingkan dengan witel yang lainnya diikuti oleh JS,TG, JT, BR,BS, dan BN\n",
        "\n",
        "Rata-rata Nilai umur pelanggan atau CLV dari pelanggan witel JB juga lebih besar dibandingkan dengan pelanggan witel BN, BR, BS, JS, JT,TG\n",
        "\n",
        "Sedangkan mean pengguaan bytes dari pelanggan witel BN paling besar dari pelanggan yg lain dan rata-rata penggunaan bytes pelanggan pada witel JS adalah yang paling sedikit \n",
        "\n",
        "Dan Tingkat Churn pada pelanggan witel JT paling memungkinkan. diikuti pelanggan witel BN, BS, JS, JB, TG dan pelanggan yang tidak memungkinkan Churn adalah witel BR"
      ]
    },
    {
      "cell_type": "code",
      "metadata": {
        "colab": {
          "base_uri": "https://localhost:8080/"
        },
        "id": "Tjy-GuepF05-",
        "outputId": "6b9b5924-8f77-4730-d99b-9685598f5800"
      },
      "source": [
        "file[['ARPU','CLV','BYTES','IS_CHURN']].groupby([file['WITEL']]).median()"
      ],
      "execution_count": null,
      "outputs": [
        {
          "output_type": "execute_result",
          "data": {
            "text/html": [
              "<div>\n",
              "<style scoped>\n",
              "    .dataframe tbody tr th:only-of-type {\n",
              "        vertical-align: middle;\n",
              "    }\n",
              "\n",
              "    .dataframe tbody tr th {\n",
              "        vertical-align: top;\n",
              "    }\n",
              "\n",
              "    .dataframe thead th {\n",
              "        text-align: right;\n",
              "    }\n",
              "</style>\n",
              "<table border=\"1\" class=\"dataframe\">\n",
              "  <thead>\n",
              "    <tr style=\"text-align: right;\">\n",
              "      <th></th>\n",
              "      <th>ARPU</th>\n",
              "      <th>CLV</th>\n",
              "      <th>BYTES</th>\n",
              "      <th>IS_CHURN</th>\n",
              "    </tr>\n",
              "    <tr>\n",
              "      <th>WITEL</th>\n",
              "      <th></th>\n",
              "      <th></th>\n",
              "      <th></th>\n",
              "      <th></th>\n",
              "    </tr>\n",
              "  </thead>\n",
              "  <tbody>\n",
              "    <tr>\n",
              "      <th>BN</th>\n",
              "      <td>363000</td>\n",
              "      <td>6138000</td>\n",
              "      <td>2.650000e+11</td>\n",
              "      <td>0</td>\n",
              "    </tr>\n",
              "    <tr>\n",
              "      <th>BR</th>\n",
              "      <td>368500</td>\n",
              "      <td>6533670</td>\n",
              "      <td>2.510000e+11</td>\n",
              "      <td>0</td>\n",
              "    </tr>\n",
              "    <tr>\n",
              "      <th>BS</th>\n",
              "      <td>368500</td>\n",
              "      <td>6489450</td>\n",
              "      <td>2.340000e+11</td>\n",
              "      <td>0</td>\n",
              "    </tr>\n",
              "    <tr>\n",
              "      <th>JB</th>\n",
              "      <td>401500</td>\n",
              "      <td>8695863</td>\n",
              "      <td>2.320000e+11</td>\n",
              "      <td>0</td>\n",
              "    </tr>\n",
              "    <tr>\n",
              "      <th>JS</th>\n",
              "      <td>385000</td>\n",
              "      <td>7647960</td>\n",
              "      <td>2.360000e+11</td>\n",
              "      <td>0</td>\n",
              "    </tr>\n",
              "    <tr>\n",
              "      <th>JT</th>\n",
              "      <td>374000</td>\n",
              "      <td>7326000</td>\n",
              "      <td>2.410000e+11</td>\n",
              "      <td>0</td>\n",
              "    </tr>\n",
              "    <tr>\n",
              "      <th>TG</th>\n",
              "      <td>374000</td>\n",
              "      <td>6930000</td>\n",
              "      <td>2.360000e+11</td>\n",
              "      <td>0</td>\n",
              "    </tr>\n",
              "  </tbody>\n",
              "</table>\n",
              "</div>"
            ],
            "text/plain": [
              "         ARPU      CLV         BYTES  IS_CHURN\n",
              "WITEL                                         \n",
              "BN     363000  6138000  2.650000e+11         0\n",
              "BR     368500  6533670  2.510000e+11         0\n",
              "BS     368500  6489450  2.340000e+11         0\n",
              "JB     401500  8695863  2.320000e+11         0\n",
              "JS     385000  7647960  2.360000e+11         0\n",
              "JT     374000  7326000  2.410000e+11         0\n",
              "TG     374000  6930000  2.360000e+11         0"
            ]
          },
          "metadata": {
            "tags": []
          },
          "execution_count": 130
        }
      ]
    },
    {
      "cell_type": "markdown",
      "metadata": {
        "id": "CeSMIhNffhUg"
      },
      "source": [
        "Nilai tengah/Median ARPU dan CLV dari witel JB paling besar dibandingkan pelanggan pada witel yang lain \n",
        " \n",
        "Sedangkan median dari penggunaan bytes dari witel BN paling besar dibandingkan yang lainnya"
      ]
    },
    {
      "cell_type": "code",
      "metadata": {
        "colab": {
          "base_uri": "https://localhost:8080/"
        },
        "id": "c1r_EBzWJMhd",
        "outputId": "a9a1f72f-f24c-4cee-9bad-eaa355cc1bc3"
      },
      "source": [
        "file[['ARPU','CLV','BYTES','IS_CHURN']].groupby([file['WITEL']]).sum()"
      ],
      "execution_count": null,
      "outputs": [
        {
          "output_type": "execute_result",
          "data": {
            "text/html": [
              "<div>\n",
              "<style scoped>\n",
              "    .dataframe tbody tr th:only-of-type {\n",
              "        vertical-align: middle;\n",
              "    }\n",
              "\n",
              "    .dataframe tbody tr th {\n",
              "        vertical-align: top;\n",
              "    }\n",
              "\n",
              "    .dataframe thead th {\n",
              "        text-align: right;\n",
              "    }\n",
              "</style>\n",
              "<table border=\"1\" class=\"dataframe\">\n",
              "  <thead>\n",
              "    <tr style=\"text-align: right;\">\n",
              "      <th></th>\n",
              "      <th>ARPU</th>\n",
              "      <th>CLV</th>\n",
              "      <th>BYTES</th>\n",
              "      <th>IS_CHURN</th>\n",
              "    </tr>\n",
              "    <tr>\n",
              "      <th>WITEL</th>\n",
              "      <th></th>\n",
              "      <th></th>\n",
              "      <th></th>\n",
              "      <th></th>\n",
              "    </tr>\n",
              "  </thead>\n",
              "  <tbody>\n",
              "    <tr>\n",
              "      <th>BN</th>\n",
              "      <td>2370372522</td>\n",
              "      <td>62765376739</td>\n",
              "      <td>2.157086e+15</td>\n",
              "      <td>422</td>\n",
              "    </tr>\n",
              "    <tr>\n",
              "      <th>BR</th>\n",
              "      <td>4945079255</td>\n",
              "      <td>152962044354</td>\n",
              "      <td>3.686677e+15</td>\n",
              "      <td>355</td>\n",
              "    </tr>\n",
              "    <tr>\n",
              "      <th>BS</th>\n",
              "      <td>5090860493</td>\n",
              "      <td>141178216541</td>\n",
              "      <td>3.734595e+15</td>\n",
              "      <td>804</td>\n",
              "    </tr>\n",
              "    <tr>\n",
              "      <th>JB</th>\n",
              "      <td>3094475012</td>\n",
              "      <td>103160233775</td>\n",
              "      <td>1.990300e+15</td>\n",
              "      <td>421</td>\n",
              "    </tr>\n",
              "    <tr>\n",
              "      <th>JS</th>\n",
              "      <td>5653539399</td>\n",
              "      <td>179337073355</td>\n",
              "      <td>3.668445e+15</td>\n",
              "      <td>809</td>\n",
              "    </tr>\n",
              "    <tr>\n",
              "      <th>JT</th>\n",
              "      <td>8184981329</td>\n",
              "      <td>257826187208</td>\n",
              "      <td>5.645710e+15</td>\n",
              "      <td>1429</td>\n",
              "    </tr>\n",
              "    <tr>\n",
              "      <th>TG</th>\n",
              "      <td>4746896038</td>\n",
              "      <td>133453640598</td>\n",
              "      <td>3.356873e+15</td>\n",
              "      <td>611</td>\n",
              "    </tr>\n",
              "  </tbody>\n",
              "</table>\n",
              "</div>"
            ],
            "text/plain": [
              "             ARPU           CLV         BYTES  IS_CHURN\n",
              "WITEL                                                  \n",
              "BN     2370372522   62765376739  2.157086e+15       422\n",
              "BR     4945079255  152962044354  3.686677e+15       355\n",
              "BS     5090860493  141178216541  3.734595e+15       804\n",
              "JB     3094475012  103160233775  1.990300e+15       421\n",
              "JS     5653539399  179337073355  3.668445e+15       809\n",
              "JT     8184981329  257826187208  5.645710e+15      1429\n",
              "TG     4746896038  133453640598  3.356873e+15       611"
            ]
          },
          "metadata": {
            "tags": []
          },
          "execution_count": 131
        }
      ]
    },
    {
      "cell_type": "markdown",
      "metadata": {
        "id": "J7HjzFNjjmCc"
      },
      "source": [
        "Jumlah ARPU, CLV, Bytes dan Churn dari witel JT merupakan yang paling besar  dibandingkan dengan witel yang lainnya yaitu sebesar 8184981329, 257826187208, 5.645710e+15, 1429 orang"
      ]
    },
    {
      "cell_type": "code",
      "metadata": {
        "colab": {
          "base_uri": "https://localhost:8080/"
        },
        "id": "DXo4JPtIJPzB",
        "outputId": "9a469ef6-372a-471f-9ccf-0547b64c9686"
      },
      "source": [
        "file[['ARPU','CLV','BYTES','IS_CHURN']].groupby([file['WITEL']]).min()"
      ],
      "execution_count": null,
      "outputs": [
        {
          "output_type": "execute_result",
          "data": {
            "text/html": [
              "<div>\n",
              "<style scoped>\n",
              "    .dataframe tbody tr th:only-of-type {\n",
              "        vertical-align: middle;\n",
              "    }\n",
              "\n",
              "    .dataframe tbody tr th {\n",
              "        vertical-align: top;\n",
              "    }\n",
              "\n",
              "    .dataframe thead th {\n",
              "        text-align: right;\n",
              "    }\n",
              "</style>\n",
              "<table border=\"1\" class=\"dataframe\">\n",
              "  <thead>\n",
              "    <tr style=\"text-align: right;\">\n",
              "      <th></th>\n",
              "      <th>ARPU</th>\n",
              "      <th>CLV</th>\n",
              "      <th>BYTES</th>\n",
              "      <th>IS_CHURN</th>\n",
              "    </tr>\n",
              "    <tr>\n",
              "      <th>WITEL</th>\n",
              "      <th></th>\n",
              "      <th></th>\n",
              "      <th></th>\n",
              "      <th></th>\n",
              "    </tr>\n",
              "  </thead>\n",
              "  <tbody>\n",
              "    <tr>\n",
              "      <th>BN</th>\n",
              "      <td>0</td>\n",
              "      <td>0</td>\n",
              "      <td>38680.0</td>\n",
              "      <td>0</td>\n",
              "    </tr>\n",
              "    <tr>\n",
              "      <th>BR</th>\n",
              "      <td>0</td>\n",
              "      <td>0</td>\n",
              "      <td>800.0</td>\n",
              "      <td>0</td>\n",
              "    </tr>\n",
              "    <tr>\n",
              "      <th>BS</th>\n",
              "      <td>0</td>\n",
              "      <td>0</td>\n",
              "      <td>88475.0</td>\n",
              "      <td>0</td>\n",
              "    </tr>\n",
              "    <tr>\n",
              "      <th>JB</th>\n",
              "      <td>0</td>\n",
              "      <td>0</td>\n",
              "      <td>2334.0</td>\n",
              "      <td>0</td>\n",
              "    </tr>\n",
              "    <tr>\n",
              "      <th>JS</th>\n",
              "      <td>0</td>\n",
              "      <td>0</td>\n",
              "      <td>708.0</td>\n",
              "      <td>0</td>\n",
              "    </tr>\n",
              "    <tr>\n",
              "      <th>JT</th>\n",
              "      <td>0</td>\n",
              "      <td>0</td>\n",
              "      <td>144.0</td>\n",
              "      <td>0</td>\n",
              "    </tr>\n",
              "    <tr>\n",
              "      <th>TG</th>\n",
              "      <td>0</td>\n",
              "      <td>0</td>\n",
              "      <td>11507.0</td>\n",
              "      <td>0</td>\n",
              "    </tr>\n",
              "  </tbody>\n",
              "</table>\n",
              "</div>"
            ],
            "text/plain": [
              "       ARPU  CLV    BYTES  IS_CHURN\n",
              "WITEL                              \n",
              "BN        0    0  38680.0         0\n",
              "BR        0    0    800.0         0\n",
              "BS        0    0  88475.0         0\n",
              "JB        0    0   2334.0         0\n",
              "JS        0    0    708.0         0\n",
              "JT        0    0    144.0         0\n",
              "TG        0    0  11507.0         0"
            ]
          },
          "metadata": {
            "tags": []
          },
          "execution_count": 132
        }
      ]
    },
    {
      "cell_type": "markdown",
      "metadata": {
        "id": "ex_ci1GVk2jt"
      },
      "source": [
        "minimal Penggunaan bytes pada witel JT merupakan yang paling sedikit yaitu hanya 114 bytes"
      ]
    },
    {
      "cell_type": "code",
      "metadata": {
        "colab": {
          "base_uri": "https://localhost:8080/"
        },
        "id": "lIlDD9V6JSLH",
        "outputId": "d0123282-5f62-4482-ac02-e32a087e782c"
      },
      "source": [
        "file[['ARPU','CLV','BYTES','IS_CHURN']].groupby([file['WITEL']]).max()"
      ],
      "execution_count": null,
      "outputs": [
        {
          "output_type": "execute_result",
          "data": {
            "text/html": [
              "<div>\n",
              "<style scoped>\n",
              "    .dataframe tbody tr th:only-of-type {\n",
              "        vertical-align: middle;\n",
              "    }\n",
              "\n",
              "    .dataframe tbody tr th {\n",
              "        vertical-align: top;\n",
              "    }\n",
              "\n",
              "    .dataframe thead th {\n",
              "        text-align: right;\n",
              "    }\n",
              "</style>\n",
              "<table border=\"1\" class=\"dataframe\">\n",
              "  <thead>\n",
              "    <tr style=\"text-align: right;\">\n",
              "      <th></th>\n",
              "      <th>ARPU</th>\n",
              "      <th>CLV</th>\n",
              "      <th>BYTES</th>\n",
              "      <th>IS_CHURN</th>\n",
              "    </tr>\n",
              "    <tr>\n",
              "      <th>WITEL</th>\n",
              "      <th></th>\n",
              "      <th></th>\n",
              "      <th></th>\n",
              "      <th></th>\n",
              "    </tr>\n",
              "  </thead>\n",
              "  <tbody>\n",
              "    <tr>\n",
              "      <th>BN</th>\n",
              "      <td>3471227</td>\n",
              "      <td>166069904</td>\n",
              "      <td>2.530000e+13</td>\n",
              "      <td>1</td>\n",
              "    </tr>\n",
              "    <tr>\n",
              "      <th>BR</th>\n",
              "      <td>3288633</td>\n",
              "      <td>216798057</td>\n",
              "      <td>1.030000e+13</td>\n",
              "      <td>1</td>\n",
              "    </tr>\n",
              "    <tr>\n",
              "      <th>BS</th>\n",
              "      <td>3291200</td>\n",
              "      <td>201261280</td>\n",
              "      <td>1.280000e+13</td>\n",
              "      <td>1</td>\n",
              "    </tr>\n",
              "    <tr>\n",
              "      <th>JB</th>\n",
              "      <td>2653453</td>\n",
              "      <td>293441624</td>\n",
              "      <td>1.330000e+13</td>\n",
              "      <td>1</td>\n",
              "    </tr>\n",
              "    <tr>\n",
              "      <th>JS</th>\n",
              "      <td>3956698</td>\n",
              "      <td>285707400</td>\n",
              "      <td>5.000000e+12</td>\n",
              "      <td>1</td>\n",
              "    </tr>\n",
              "    <tr>\n",
              "      <th>JT</th>\n",
              "      <td>3431215</td>\n",
              "      <td>335851490</td>\n",
              "      <td>8.670000e+12</td>\n",
              "      <td>1</td>\n",
              "    </tr>\n",
              "    <tr>\n",
              "      <th>TG</th>\n",
              "      <td>4452878</td>\n",
              "      <td>197320846</td>\n",
              "      <td>1.870000e+13</td>\n",
              "      <td>1</td>\n",
              "    </tr>\n",
              "  </tbody>\n",
              "</table>\n",
              "</div>"
            ],
            "text/plain": [
              "          ARPU        CLV         BYTES  IS_CHURN\n",
              "WITEL                                            \n",
              "BN     3471227  166069904  2.530000e+13         1\n",
              "BR     3288633  216798057  1.030000e+13         1\n",
              "BS     3291200  201261280  1.280000e+13         1\n",
              "JB     2653453  293441624  1.330000e+13         1\n",
              "JS     3956698  285707400  5.000000e+12         1\n",
              "JT     3431215  335851490  8.670000e+12         1\n",
              "TG     4452878  197320846  1.870000e+13         1"
            ]
          },
          "metadata": {
            "tags": []
          },
          "execution_count": 133
        }
      ]
    },
    {
      "cell_type": "markdown",
      "metadata": {
        "id": "Dq6iTybKmV-S"
      },
      "source": [
        "Maximal ARPU dari witel TG merupakan yang paling besar\n",
        "\n",
        "sedangkan Maximal CLV dan bytes dari witel JT yang paling besar  \n",
        "\n",
        "dan untuk maximal tingkat Churn pada semua witel terhitung sama"
      ]
    },
    {
      "cell_type": "code",
      "metadata": {
        "colab": {
          "base_uri": "https://localhost:8080/"
        },
        "id": "uoceQVRpJXdH",
        "outputId": "596c7873-95fe-477c-d82f-3fb9b24fbf66"
      },
      "source": [
        "file[['ARPU','CLV','BYTES','IS_CHURN']].groupby([file['WITEL']]).count()"
      ],
      "execution_count": null,
      "outputs": [
        {
          "output_type": "execute_result",
          "data": {
            "text/html": [
              "<div>\n",
              "<style scoped>\n",
              "    .dataframe tbody tr th:only-of-type {\n",
              "        vertical-align: middle;\n",
              "    }\n",
              "\n",
              "    .dataframe tbody tr th {\n",
              "        vertical-align: top;\n",
              "    }\n",
              "\n",
              "    .dataframe thead th {\n",
              "        text-align: right;\n",
              "    }\n",
              "</style>\n",
              "<table border=\"1\" class=\"dataframe\">\n",
              "  <thead>\n",
              "    <tr style=\"text-align: right;\">\n",
              "      <th></th>\n",
              "      <th>ARPU</th>\n",
              "      <th>CLV</th>\n",
              "      <th>BYTES</th>\n",
              "      <th>IS_CHURN</th>\n",
              "    </tr>\n",
              "    <tr>\n",
              "      <th>WITEL</th>\n",
              "      <th></th>\n",
              "      <th></th>\n",
              "      <th></th>\n",
              "      <th></th>\n",
              "    </tr>\n",
              "  </thead>\n",
              "  <tbody>\n",
              "    <tr>\n",
              "      <th>BN</th>\n",
              "      <td>5978</td>\n",
              "      <td>5978</td>\n",
              "      <td>5978</td>\n",
              "      <td>5978</td>\n",
              "    </tr>\n",
              "    <tr>\n",
              "      <th>BR</th>\n",
              "      <td>12378</td>\n",
              "      <td>12378</td>\n",
              "      <td>12378</td>\n",
              "      <td>12378</td>\n",
              "    </tr>\n",
              "    <tr>\n",
              "      <th>BS</th>\n",
              "      <td>12826</td>\n",
              "      <td>12826</td>\n",
              "      <td>12826</td>\n",
              "      <td>12826</td>\n",
              "    </tr>\n",
              "    <tr>\n",
              "      <th>JB</th>\n",
              "      <td>6921</td>\n",
              "      <td>6921</td>\n",
              "      <td>6921</td>\n",
              "      <td>6921</td>\n",
              "    </tr>\n",
              "    <tr>\n",
              "      <th>JS</th>\n",
              "      <td>13047</td>\n",
              "      <td>13047</td>\n",
              "      <td>13047</td>\n",
              "      <td>13047</td>\n",
              "    </tr>\n",
              "    <tr>\n",
              "      <th>JT</th>\n",
              "      <td>20056</td>\n",
              "      <td>20056</td>\n",
              "      <td>20056</td>\n",
              "      <td>20056</td>\n",
              "    </tr>\n",
              "    <tr>\n",
              "      <th>TG</th>\n",
              "      <td>11613</td>\n",
              "      <td>11613</td>\n",
              "      <td>11613</td>\n",
              "      <td>11613</td>\n",
              "    </tr>\n",
              "  </tbody>\n",
              "</table>\n",
              "</div>"
            ],
            "text/plain": [
              "        ARPU    CLV  BYTES  IS_CHURN\n",
              "WITEL                               \n",
              "BN      5978   5978   5978      5978\n",
              "BR     12378  12378  12378     12378\n",
              "BS     12826  12826  12826     12826\n",
              "JB      6921   6921   6921      6921\n",
              "JS     13047  13047  13047     13047\n",
              "JT     20056  20056  20056     20056\n",
              "TG     11613  11613  11613     11613"
            ]
          },
          "metadata": {
            "tags": []
          },
          "execution_count": 135
        }
      ]
    },
    {
      "cell_type": "markdown",
      "metadata": {
        "id": "u5r8M9cqnP83"
      },
      "source": [
        "Terhitung row paling banyak memuat info tentang ARPU , CLV, BYtes dan Churn ada pada witek JT"
      ]
    },
    {
      "cell_type": "code",
      "metadata": {
        "id": "qkCWKUaHJZl0"
      },
      "source": [
        ""
      ],
      "execution_count": null,
      "outputs": []
    },
    {
      "cell_type": "markdown",
      "metadata": {
        "id": "STwa13TkJaV6"
      },
      "source": [
        "#C. Apakah terdapat imbalance dalam data pelanggan yang berhenti berlangganan(IS_CHURN)? Jika YA, bagaimana cara menyelesaikannya? "
      ]
    },
    {
      "cell_type": "markdown",
      "metadata": {
        "id": "owwfMxcd4qBE"
      },
      "source": [
        "**Salah satunya dapat menggunakan Up-sample Minority Class**\n",
        "artinya menaikan jumlah data dari kelas yang jumlahnya kecil"
      ]
    },
    {
      "cell_type": "code",
      "metadata": {
        "id": "Zdab2JLRJdgP"
      },
      "source": [
        "from sklearn.utils import resample"
      ],
      "execution_count": null,
      "outputs": []
    },
    {
      "cell_type": "code",
      "metadata": {
        "id": "7nCxRHT04krc"
      },
      "source": [
        "#Pisahkan antara majority class dan minority class\n",
        "majority_class = file[file.IS_CHURN==0]\n",
        "minority_class = file[file.IS_CHURN==1]\n",
        "minority_class_upsample = resample(minority_class,\n",
        "                                   replace=True, #sample dengan adanya pengubahan\n",
        "                                   n_samples= 87752, #matchkan dengan majority class\n",
        "                                   random_state=123 #default nilai random state pada upsample\n",
        "                                   )\n",
        "#gabungkan  majority class dengan minority_class_upsample\n",
        "upsample = pd.concat([majority_class,minority_class_upsample])"
      ],
      "execution_count": null,
      "outputs": []
    },
    {
      "cell_type": "code",
      "metadata": {
        "colab": {
          "base_uri": "https://localhost:8080/"
        },
        "id": "6pOhVkeD7HPL",
        "outputId": "96e8ae2e-e5ca-4ac6-e45c-adea779be145"
      },
      "source": [
        "upsample.IS_CHURN.value_counts()"
      ],
      "execution_count": null,
      "outputs": [
        {
          "output_type": "execute_result",
          "data": {
            "text/plain": [
              "1    87752\n",
              "0    77968\n",
              "Name: IS_CHURN, dtype: int64"
            ]
          },
          "metadata": {
            "tags": []
          },
          "execution_count": 204
        }
      ]
    },
    {
      "cell_type": "markdown",
      "metadata": {
        "id": "8kpFUbIWni02"
      },
      "source": [
        "Terdapat 87752 orang yang akan Churn, Sehingga yang harus dilakukan manajemen agar tingkat Churn tidak bertambah adalah : \n",
        "\n",
        "Menganalisis mengapa churn terjadi\n",
        "\n",
        "Berinteraksi dengan pelanggan\n",
        "\n",
        "Tentukan pelanggan yang paling berharga\n",
        "\n",
        "Tawarkan insentif\n",
        "\n",
        "Targetkan audiens yang tepat\n",
        "\n",
        "Berikan layanan yang lebih baik\n",
        "\n",
        "Perhatikan keluhannya\n",
        "\n",
        "Pamerkan keunggulan kompetitif perusahaan"
      ]
    },
    {
      "cell_type": "markdown",
      "metadata": {
        "id": "_1USZpArKBJs"
      },
      "source": [
        "#D. Dengan menggunakan 80% dataset sebagai data train dan sisanya 20% sebagai data test, bagaimana hasil prediksi dengan model Logistic Regression, Random Forest, Decision Tree, Naïve Bayes?"
      ]
    },
    {
      "cell_type": "code",
      "metadata": {
        "id": "fx72iL6iKVSm"
      },
      "source": [
        "#creating a new dataframe \n",
        "file1 = file.copy()"
      ],
      "execution_count": null,
      "outputs": []
    },
    {
      "cell_type": "code",
      "metadata": {
        "id": "jAghJkE9L9CH"
      },
      "source": [
        "from sklearn.ensemble import RandomForestClassifier\n",
        "from sklearn.linear_model import LogisticRegression\n",
        "from sklearn.tree import DecisionTreeClassifier\n",
        "from sklearn.naive_bayes import GaussianNB\n",
        "from sklearn.model_selection import train_test_split\n",
        "from sklearn.metrics import classification_report, accuracy_score\n",
        "from sklearn.preprocessing import LabelEncoder"
      ],
      "execution_count": null,
      "outputs": []
    },
    {
      "cell_type": "code",
      "metadata": {
        "id": "uEcg4jxTKkM8"
      },
      "source": [
        "#type are categorical columns:\n",
        "WITEL1=LabelEncoder()\n",
        "PRODUCT1=LabelEncoder()\n",
        "TECHNO1=LabelEncoder()\n",
        "RANGE_UMUR1=LabelEncoder()\n",
        "USAGE1=LabelEncoder()\n",
        "file1['WITEL']= WITEL1.fit_transform(file1['WITEL'])\n",
        "file1['PRODUCT']= PRODUCT1.fit_transform(file1['PRODUCT'])\n",
        "file1['TECHNO']= PRODUCT1.fit_transform(file1['TECHNO'])\n",
        "file1['RANGE_UMUR']= RANGE_UMUR1.fit_transform(file1['RANGE_UMUR'])\n",
        "file1['USAGE']= USAGE1.fit_transform(file1['USAGE'])"
      ],
      "execution_count": null,
      "outputs": []
    },
    {
      "cell_type": "code",
      "metadata": {
        "id": "3d0hHA4oKUeX"
      },
      "source": [
        "y = file1['IS_CHURN']\n",
        "X = file1.drop(['IS_CHURN'],axis=1)\n",
        "X_train, X_test, y_train, y_test = train_test_split(X, y, test_size=0.2, random_state=42) #80% training and 20% testing"
      ],
      "execution_count": null,
      "outputs": []
    },
    {
      "cell_type": "markdown",
      "metadata": {
        "id": "ZTiEU3AfKRSl"
      },
      "source": [
        "##Model Logistic Regression"
      ]
    },
    {
      "cell_type": "code",
      "metadata": {
        "id": "mIOgh7UjLs_N",
        "colab": {
          "base_uri": "https://localhost:8080/"
        },
        "outputId": "5cc792fe-79db-4542-a33d-e63b1f172cc3"
      },
      "source": [
        "LR = LogisticRegression() #using default values\n",
        "#training our model\n",
        "model_LR = LR.fit(X_train,y_train)\n",
        "#predicting our labels\n",
        "predict_LR = model_LR.predict(X_test)"
      ],
      "execution_count": null,
      "outputs": [
        {
          "output_type": "stream",
          "text": [
            "/usr/local/lib/python3.7/dist-packages/sklearn/linear_model/_logistic.py:940: ConvergenceWarning: lbfgs failed to converge (status=2):\n",
            "ABNORMAL_TERMINATION_IN_LNSRCH.\n",
            "\n",
            "Increase the number of iterations (max_iter) or scale the data as shown in:\n",
            "    https://scikit-learn.org/stable/modules/preprocessing.html\n",
            "Please also refer to the documentation for alternative solver options:\n",
            "    https://scikit-learn.org/stable/modules/linear_model.html#logistic-regression\n",
            "  extra_warning_msg=_LOGISTIC_SOLVER_CONVERGENCE_MSG)\n"
          ],
          "name": "stderr"
        }
      ]
    },
    {
      "cell_type": "code",
      "metadata": {
        "id": "SmtQQ9OySneC"
      },
      "source": [
        ""
      ],
      "execution_count": null,
      "outputs": []
    },
    {
      "cell_type": "code",
      "metadata": {
        "colab": {
          "base_uri": "https://localhost:8080/"
        },
        "id": "g1OEcY6NQu7A",
        "outputId": "59e10b96-054b-4544-b1d1-96a162e2be4a"
      },
      "source": [
        "print(classification_report(y_test,predict_LR))\n",
        "accuracy_score(y_test,predict_LR)"
      ],
      "execution_count": null,
      "outputs": [
        {
          "output_type": "stream",
          "text": [
            "              precision    recall  f1-score   support\n",
            "\n",
            "           0       0.94      1.00      0.97     15643\n",
            "           1       0.00      0.00      0.00       921\n",
            "\n",
            "    accuracy                           0.94     16564\n",
            "   macro avg       0.47      0.50      0.49     16564\n",
            "weighted avg       0.89      0.94      0.92     16564\n",
            "\n"
          ],
          "name": "stdout"
        },
        {
          "output_type": "stream",
          "text": [
            "/usr/local/lib/python3.7/dist-packages/sklearn/metrics/_classification.py:1272: UndefinedMetricWarning: Precision and F-score are ill-defined and being set to 0.0 in labels with no predicted samples. Use `zero_division` parameter to control this behavior.\n",
            "  _warn_prf(average, modifier, msg_start, len(result))\n"
          ],
          "name": "stderr"
        },
        {
          "output_type": "execute_result",
          "data": {
            "text/plain": [
              "0.9443974885293407"
            ]
          },
          "metadata": {
            "tags": []
          },
          "execution_count": 141
        }
      ]
    },
    {
      "cell_type": "markdown",
      "metadata": {
        "id": "2aD6KveGo21c"
      },
      "source": [
        "Tingkat akurasi untuk Model Logistic Regression sebesar 0,94"
      ]
    },
    {
      "cell_type": "code",
      "metadata": {
        "id": "kG8STg0oYQFm"
      },
      "source": [
        ""
      ],
      "execution_count": null,
      "outputs": []
    },
    {
      "cell_type": "markdown",
      "metadata": {
        "id": "1ju0cskObKp3"
      },
      "source": [
        "##Model Random Forest"
      ]
    },
    {
      "cell_type": "code",
      "metadata": {
        "id": "E9fxCavnbPLx"
      },
      "source": [
        "RF = RandomForestClassifier() #using default values\n",
        "#training our model\n",
        "model_RF = RF.fit(X_train,y_train)\n",
        "#predicting our labels\n",
        "predict_RF = model_RF.predict(X_test)"
      ],
      "execution_count": null,
      "outputs": []
    },
    {
      "cell_type": "code",
      "metadata": {
        "colab": {
          "base_uri": "https://localhost:8080/"
        },
        "id": "0cGnE-7CbgJZ",
        "outputId": "3e280e32-78be-4f3e-8bb4-74ed4a450ab5"
      },
      "source": [
        "print(classification_report(y_test,predict_RF))\n",
        "accuracy_score(y_test,predict_RF)"
      ],
      "execution_count": null,
      "outputs": [
        {
          "output_type": "stream",
          "text": [
            "              precision    recall  f1-score   support\n",
            "\n",
            "           0       1.00      1.00      1.00     15643\n",
            "           1       1.00      1.00      1.00       921\n",
            "\n",
            "    accuracy                           1.00     16564\n",
            "   macro avg       1.00      1.00      1.00     16564\n",
            "weighted avg       1.00      1.00      1.00     16564\n",
            "\n"
          ],
          "name": "stdout"
        },
        {
          "output_type": "execute_result",
          "data": {
            "text/plain": [
              "1.0"
            ]
          },
          "metadata": {
            "tags": []
          },
          "execution_count": 147
        }
      ]
    },
    {
      "cell_type": "markdown",
      "metadata": {
        "id": "_S47eJ_cpnB3"
      },
      "source": [
        "Tingkat akurasi untuk Model Random Forest sebesar 1"
      ]
    },
    {
      "cell_type": "code",
      "metadata": {
        "id": "fX37ywKPblcJ"
      },
      "source": [
        ""
      ],
      "execution_count": null,
      "outputs": []
    },
    {
      "cell_type": "markdown",
      "metadata": {
        "id": "8J-lNPukbpl5"
      },
      "source": [
        "##Model Decision Tree"
      ]
    },
    {
      "cell_type": "code",
      "metadata": {
        "id": "x8ALKt8ibwCa"
      },
      "source": [
        "DT = DecisionTreeClassifier() #using default values\n",
        "#training our model\n",
        "model_DT = DT.fit(X_train,y_train)\n",
        "#predicting our labels\n",
        "predict_DT = model_DT.predict(X_test)"
      ],
      "execution_count": null,
      "outputs": []
    },
    {
      "cell_type": "code",
      "metadata": {
        "colab": {
          "base_uri": "https://localhost:8080/"
        },
        "id": "9ugEHN8Hb4TI",
        "outputId": "92119635-167a-4d3f-8d85-50e7419e102a"
      },
      "source": [
        "print(classification_report(y_test,predict_DT))\n",
        "accuracy_score(y_test,predict_DT)"
      ],
      "execution_count": null,
      "outputs": [
        {
          "output_type": "stream",
          "text": [
            "              precision    recall  f1-score   support\n",
            "\n",
            "           0       1.00      1.00      1.00     15643\n",
            "           1       1.00      1.00      1.00       921\n",
            "\n",
            "    accuracy                           1.00     16564\n",
            "   macro avg       1.00      1.00      1.00     16564\n",
            "weighted avg       1.00      1.00      1.00     16564\n",
            "\n"
          ],
          "name": "stdout"
        },
        {
          "output_type": "execute_result",
          "data": {
            "text/plain": [
              "0.9999396281091524"
            ]
          },
          "metadata": {
            "tags": []
          },
          "execution_count": 149
        }
      ]
    },
    {
      "cell_type": "markdown",
      "metadata": {
        "id": "_Ck8AQ75pwQz"
      },
      "source": [
        "Tingkat akurasi untuk Model Decision Tree sebesar 0,99"
      ]
    },
    {
      "cell_type": "code",
      "metadata": {
        "id": "f8JvmwVLb7EG"
      },
      "source": [
        ""
      ],
      "execution_count": null,
      "outputs": []
    },
    {
      "cell_type": "markdown",
      "metadata": {
        "id": "MvpajnJab75p"
      },
      "source": [
        "##Model Naive Bayes"
      ]
    },
    {
      "cell_type": "code",
      "metadata": {
        "id": "bS3BlLGBcEag"
      },
      "source": [
        "NB = GaussianNB() #using default values\n",
        "#training our model\n",
        "model_NB = NB.fit(X_train,y_train)\n",
        "#predicting our labels\n",
        "predict_NB = model_NB.predict(X_test)"
      ],
      "execution_count": null,
      "outputs": []
    },
    {
      "cell_type": "code",
      "metadata": {
        "colab": {
          "base_uri": "https://localhost:8080/"
        },
        "id": "g9wlOLmocLlk",
        "outputId": "313e0b3f-53f9-49b5-81db-3c8d8f3b5c4b"
      },
      "source": [
        "print(classification_report(y_test,predict_NB))\n",
        "accuracy_score(y_test,predict_NB)"
      ],
      "execution_count": null,
      "outputs": [
        {
          "output_type": "stream",
          "text": [
            "              precision    recall  f1-score   support\n",
            "\n",
            "           0       0.94      1.00      0.97     15643\n",
            "           1       0.00      0.00      0.00       921\n",
            "\n",
            "    accuracy                           0.94     16564\n",
            "   macro avg       0.47      0.50      0.49     16564\n",
            "weighted avg       0.89      0.94      0.92     16564\n",
            "\n"
          ],
          "name": "stdout"
        },
        {
          "output_type": "stream",
          "text": [
            "/usr/local/lib/python3.7/dist-packages/sklearn/metrics/_classification.py:1272: UndefinedMetricWarning: Precision and F-score are ill-defined and being set to 0.0 in labels with no predicted samples. Use `zero_division` parameter to control this behavior.\n",
            "  _warn_prf(average, modifier, msg_start, len(result))\n"
          ],
          "name": "stderr"
        },
        {
          "output_type": "execute_result",
          "data": {
            "text/plain": [
              "0.9443974885293407"
            ]
          },
          "metadata": {
            "tags": []
          },
          "execution_count": 152
        }
      ]
    },
    {
      "cell_type": "markdown",
      "metadata": {
        "id": "EmSrSQLxp2NT"
      },
      "source": [
        "Tingkat akurasi untuk Model Naive Bayes sebesar 0,94"
      ]
    },
    {
      "cell_type": "markdown",
      "metadata": {
        "id": "l5QY3_3iwD2r"
      },
      "source": [
        "##Summary Hasil Prediksi"
      ]
    },
    {
      "cell_type": "code",
      "metadata": {
        "colab": {
          "base_uri": "https://localhost:8080/"
        },
        "id": "Q0Y31sfbcV3V",
        "outputId": "719c782d-29a1-4675-d974-00cf9796c09b"
      },
      "source": [
        "from prettytable import PrettyTable\n",
        "accTable = PrettyTable(['Model', 'Accuracy'])\n",
        "accTable.add_row(['Logistic Regression', '0.94'])\n",
        "accTable.add_row(['Random Forest', '1'])\n",
        "accTable.add_row(['Decision Tree', '0.99'])\n",
        "accTable.add_row(['Naive Bayes', '0.94'])\n",
        "print(accTable)"
      ],
      "execution_count": null,
      "outputs": [
        {
          "output_type": "stream",
          "text": [
            "+---------------------+----------+\n",
            "|        Model        | Accuracy |\n",
            "+---------------------+----------+\n",
            "| Logistic Regression |   0.94   |\n",
            "|    Random Forest    |    1     |\n",
            "|    Decision Tree    |   0.99   |\n",
            "|     Naive Bayes     |   0.94   |\n",
            "+---------------------+----------+\n"
          ],
          "name": "stdout"
        }
      ]
    },
    {
      "cell_type": "markdown",
      "metadata": {
        "id": "8tD2A_4vp6-P"
      },
      "source": [
        "Dilihat dari tingkat akurasi model Random Forest memiliki tingkat yang sempurna yaitu 1\n",
        "\n",
        "---\n",
        "\n",
        "\n",
        "\n",
        "---\n",
        "\n"
      ]
    },
    {
      "cell_type": "code",
      "metadata": {
        "id": "SDUlHLr6s3RM"
      },
      "source": [
        ""
      ],
      "execution_count": null,
      "outputs": []
    },
    {
      "cell_type": "markdown",
      "metadata": {
        "id": "ERcWurD1uEf1"
      },
      "source": [
        "#E. Berapa presisi model berdasarkan Test Confusion Matrix? Model mana yang Saudara rekomendasikan? Jelaskan!"
      ]
    },
    {
      "cell_type": "markdown",
      "metadata": {
        "id": "I36ZkI8cuVTt"
      },
      "source": [
        "##Model Logistic Regression"
      ]
    },
    {
      "cell_type": "code",
      "metadata": {
        "colab": {
          "base_uri": "https://localhost:8080/",
          "height": 317
        },
        "id": "8E-IyY08uJEB",
        "outputId": "1f7ab381-43c4-42d8-9f89-f74eeeb0cea8"
      },
      "source": [
        "from sklearn.metrics import confusion_matrix\n",
        "confusion_matrix = confusion_matrix(y_test, predict_LR)\n",
        "print(confusion_matrix)\n",
        "sns.heatmap(confusion_matrix, annot=True, cmap=\"Pastel1\")"
      ],
      "execution_count": null,
      "outputs": [
        {
          "output_type": "stream",
          "text": [
            "[[15643     0]\n",
            " [  921     0]]\n"
          ],
          "name": "stdout"
        },
        {
          "output_type": "execute_result",
          "data": {
            "text/plain": [
              "<matplotlib.axes._subplots.AxesSubplot at 0x7f2f28074dd0>"
            ]
          },
          "metadata": {
            "tags": []
          },
          "execution_count": 178
        },
        {
          "output_type": "display_data",
          "data": {
            "image/png": "[encoded data removed]",
            "text/plain": [
              "<Figure size 432x288 with 2 Axes>"
            ]
          },
          "metadata": {
            "tags": [],
            "needs_background": "light"
          }
        }
      ]
    },
    {
      "cell_type": "code",
      "metadata": {
        "colab": {
          "base_uri": "https://localhost:8080/"
        },
        "id": "C6n-hjUSueZT",
        "outputId": "c85e9b75-9e33-44ab-fd8d-aea256e8aed8"
      },
      "source": [
        "from sklearn.metrics import precision_score\n",
        "precision = precision_score(y_test, predict_LR, average='binary')\n",
        "precision"
      ],
      "execution_count": null,
      "outputs": [
        {
          "output_type": "stream",
          "text": [
            "/usr/local/lib/python3.7/dist-packages/sklearn/metrics/_classification.py:1272: UndefinedMetricWarning: Precision is ill-defined and being set to 0.0 due to no predicted samples. Use `zero_division` parameter to control this behavior.\n",
            "  _warn_prf(average, modifier, msg_start, len(result))\n"
          ],
          "name": "stderr"
        },
        {
          "output_type": "execute_result",
          "data": {
            "text/plain": [
              "0.0"
            ]
          },
          "metadata": {
            "tags": []
          },
          "execution_count": 179
        }
      ]
    },
    {
      "cell_type": "markdown",
      "metadata": {
        "id": "apfU2PJ5qvOD"
      },
      "source": [
        "True Positive (TP): kita memprediksi Churn sebesar 0 dan memang benar terjadi\n",
        "\n",
        "True Negative (TN): kita memprediksi Churn tidak terjadi sebesar 15643 dan memang benar tidak terjadi.\n",
        "\n",
        "False Positive (FP):kita memprediksi Churn terjadi sebesar 0 dan ternyata prediksi salah, ternyata tidak terjadi\n",
        "\n",
        "False Negative (FN) : kita memprediksi Churn tidak terjadi 0 kasus dan ternyata prediksi salah, Churn terjadi. "
      ]
    },
    {
      "cell_type": "markdown",
      "metadata": {
        "id": "EE5NqqPTqwQ1"
      },
      "source": [
        "Precision menggambarkan akurasi antara data yang diminta dengan hasil prediksi yang diberikan oleh model.\n",
        "\n",
        "Diperoleh bahwa dengan menggunakan Logistic Regression memiliki tingkat precision sebesar 0"
      ]
    },
    {
      "cell_type": "markdown",
      "metadata": {
        "id": "wp0lhlqyuhAn"
      },
      "source": [
        "##Model Random Forest"
      ]
    },
    {
      "cell_type": "code",
      "metadata": {
        "colab": {
          "base_uri": "https://localhost:8080/",
          "height": 317
        },
        "id": "8-WP_kPTukVb",
        "outputId": "84d4ef91-f720-4015-d65f-ccc8a602d005"
      },
      "source": [
        "from sklearn.metrics import confusion_matrix\n",
        "confusion_matrix = confusion_matrix(y_test, predict_RF)\n",
        "print(confusion_matrix)\n",
        "sns.heatmap(confusion_matrix, annot=True, cmap=\"Set3\")"
      ],
      "execution_count": null,
      "outputs": [
        {
          "output_type": "stream",
          "text": [
            "[[15643     0]\n",
            " [    0   921]]\n"
          ],
          "name": "stdout"
        },
        {
          "output_type": "execute_result",
          "data": {
            "text/plain": [
              "<matplotlib.axes._subplots.AxesSubplot at 0x7f2f28f6a0d0>"
            ]
          },
          "metadata": {
            "tags": []
          },
          "execution_count": 180
        },
        {
          "output_type": "display_data",
          "data": {
            "image/png": "[encoded data removed]",
            "text/plain": [
              "<Figure size 432x288 with 2 Axes>"
            ]
          },
          "metadata": {
            "tags": [],
            "needs_background": "light"
          }
        }
      ]
    },
    {
      "cell_type": "code",
      "metadata": {
        "colab": {
          "base_uri": "https://localhost:8080/"
        },
        "id": "wIw4v5c9uqkS",
        "outputId": "da550363-e4b5-4622-ee12-2e861acb924d"
      },
      "source": [
        "from sklearn.metrics import precision_score\n",
        "precision = precision_score(y_test, predict_RF, average='binary')\n",
        "precision"
      ],
      "execution_count": null,
      "outputs": [
        {
          "output_type": "execute_result",
          "data": {
            "text/plain": [
              "1.0"
            ]
          },
          "metadata": {
            "tags": []
          },
          "execution_count": 181
        }
      ]
    },
    {
      "cell_type": "markdown",
      "metadata": {
        "id": "7s8JhnwetOI2"
      },
      "source": [
        "True Positive (TP): kita memprediksi Churn sebesar 921 dan memang benar terjadi\n",
        "\n",
        "True Negative (TN): kita memprediksi Churn tidak terjadi sebesar 15643 dan memang benar tidak terjadi.\n",
        "\n",
        "False Positive (FP):kita memprediksi Churn terjadi sebesar 0 dan ternyata prediksi salah, ternyata tidak terjadi\n",
        "\n",
        "False Negative (FN) : kita memprediksi Churn tidak terjadi 0 kasus dan ternyata prediksi salah, ternyata kasus Churn terjadi."
      ]
    },
    {
      "cell_type": "markdown",
      "metadata": {
        "id": "MJHA1Uh7tTaZ"
      },
      "source": [
        "Precision menggambarkan akurasi antara data yang diminta dengan hasil prediksi yang diberikan oleh model.\n",
        "\n",
        "Diperoleh bahwa dengan menggunakan Model Random Forest memiliki tingkat precision sebesar 1"
      ]
    },
    {
      "cell_type": "markdown",
      "metadata": {
        "id": "ABm8pdhKuulv"
      },
      "source": [
        "##Model Decision Tree"
      ]
    },
    {
      "cell_type": "code",
      "metadata": {
        "colab": {
          "base_uri": "https://localhost:8080/",
          "height": 317
        },
        "id": "_0wz-caduwGe",
        "outputId": "7da5f4bd-ee43-4491-c988-94533561a8ba"
      },
      "source": [
        "from sklearn.metrics import confusion_matrix\n",
        "confusion_matrix = confusion_matrix(y_test, predict_DT)\n",
        "print(confusion_matrix)\n",
        "sns.heatmap(confusion_matrix, annot=True, cmap=\"tab10\")"
      ],
      "execution_count": null,
      "outputs": [
        {
          "output_type": "stream",
          "text": [
            "[[15643     0]\n",
            " [    1   920]]\n"
          ],
          "name": "stdout"
        },
        {
          "output_type": "execute_result",
          "data": {
            "text/plain": [
              "<matplotlib.axes._subplots.AxesSubplot at 0x7f2f28f69790>"
            ]
          },
          "metadata": {
            "tags": []
          },
          "execution_count": 182
        },
        {
          "output_type": "display_data",
          "data": {
            "image/png": "[encoded data removed]",
            "text/plain": [
              "<Figure size 432x288 with 2 Axes>"
            ]
          },
          "metadata": {
            "tags": [],
            "needs_background": "light"
          }
        }
      ]
    },
    {
      "cell_type": "code",
      "metadata": {
        "colab": {
          "base_uri": "https://localhost:8080/"
        },
        "id": "xBInBNoCu0xt",
        "outputId": "bbdf927a-3645-47c1-dd50-ea28cf2e0067"
      },
      "source": [
        "from sklearn.metrics import precision_score\n",
        "precision = precision_score(y_test, predict_DT, average='binary')\n",
        "precision"
      ],
      "execution_count": null,
      "outputs": [
        {
          "output_type": "execute_result",
          "data": {
            "text/plain": [
              "1.0"
            ]
          },
          "metadata": {
            "tags": []
          },
          "execution_count": 183
        }
      ]
    },
    {
      "cell_type": "markdown",
      "metadata": {
        "id": "ED20XWCntgAb"
      },
      "source": [
        "True Positive (TP): kita memprediksi Churn sebesar 920 dan memang benar terjadi\n",
        "\n",
        "True Negative (TN): kita memprediksi Churn tidak terjadi sebesar 15643 dan memang benar tidak terjadi.\n",
        "\n",
        "False Positive (FP):kita memprediksi Churn terjadi sebesar 1 dan ternyata prediksi salah, ternyata tidak terjadi\n",
        "\n",
        "False Negative (FN) : kita memprediksi Churn tidak terjadi 0 kasus dan ternyata prediksi salah, ternyata kasus Churn terjadi.\n",
        "\n"
      ]
    },
    {
      "cell_type": "markdown",
      "metadata": {
        "id": "QX2A10b2tkp5"
      },
      "source": [
        "Precision menggambarkan akurasi antara data yang diminta dengan hasil prediksi yang diberikan oleh model.\n",
        "\n",
        "Diperoleh bahwa dengan menggunakan Model Decision Tree memiliki tingkat precision sebesar 1"
      ]
    },
    {
      "cell_type": "markdown",
      "metadata": {
        "id": "WnXCmJnbvkS1"
      },
      "source": [
        "##Model Naive Bayes"
      ]
    },
    {
      "cell_type": "code",
      "metadata": {
        "colab": {
          "base_uri": "https://localhost:8080/",
          "height": 317
        },
        "id": "YymPppCOvlwF",
        "outputId": "01c0211d-dafe-4378-d4b5-a4a456aed9ca"
      },
      "source": [
        "from sklearn.metrics import confusion_matrix\n",
        "confusion_matrix = confusion_matrix(y_test, predict_NB)\n",
        "print(confusion_matrix)\n",
        "sns.heatmap(confusion_matrix, annot=True, cmap=\"tab20\")"
      ],
      "execution_count": null,
      "outputs": [
        {
          "output_type": "stream",
          "text": [
            "[[15643     0]\n",
            " [  921     0]]\n"
          ],
          "name": "stdout"
        },
        {
          "output_type": "execute_result",
          "data": {
            "text/plain": [
              "<matplotlib.axes._subplots.AxesSubplot at 0x7f2f28e74450>"
            ]
          },
          "metadata": {
            "tags": []
          },
          "execution_count": 184
        },
        {
          "output_type": "display_data",
          "data": {
            "image/png": "[encoded data removed]",
            "text/plain": [
              "<Figure size 432x288 with 2 Axes>"
            ]
          },
          "metadata": {
            "tags": [],
            "needs_background": "light"
          }
        }
      ]
    },
    {
      "cell_type": "code",
      "metadata": {
        "colab": {
          "base_uri": "https://localhost:8080/"
        },
        "id": "trEO7OdwvrIh",
        "outputId": "e5e6d2b5-ac80-43e5-b7f3-0d1fbc556235"
      },
      "source": [
        "from sklearn.metrics import precision_score\n",
        "precision = precision_score(y_test, predict_NB, average='binary')\n",
        "precision"
      ],
      "execution_count": null,
      "outputs": [
        {
          "output_type": "stream",
          "text": [
            "/usr/local/lib/python3.7/dist-packages/sklearn/metrics/_classification.py:1272: UndefinedMetricWarning: Precision is ill-defined and being set to 0.0 due to no predicted samples. Use `zero_division` parameter to control this behavior.\n",
            "  _warn_prf(average, modifier, msg_start, len(result))\n"
          ],
          "name": "stderr"
        },
        {
          "output_type": "execute_result",
          "data": {
            "text/plain": [
              "0.0"
            ]
          },
          "metadata": {
            "tags": []
          },
          "execution_count": 185
        }
      ]
    },
    {
      "cell_type": "markdown",
      "metadata": {
        "id": "1wan170AttBe"
      },
      "source": [
        "True Positive (TP): kita memprediksi Churn sebesar 0 dan memang benar terjadi\n",
        "\n",
        "True Negative (TN): kita memprediksi Churn tidak terjadi sebesar 15643 dan memang benar tidak terjadi.\n",
        "\n",
        "False Positive (FP):kita memprediksi Churn terjadi sebesar 921 dan ternyata prediksi salah, ternyata tidak terjadi\n",
        "\n",
        "False Negative (FN) : kita memprediksi Churn tidak terjadi 0 kasus dan ternyata prediksi salah, ternyata kasus Churn terjadi."
      ]
    },
    {
      "cell_type": "markdown",
      "metadata": {
        "id": "-SlCkZ9Nt5N0"
      },
      "source": [
        "Precision menggambarkan akurasi antara data yang diminta dengan hasil prediksi yang diberikan oleh model.\n",
        "\n",
        "Diperoleh bahwa dengan menggunakan Model Naive Bayes memiliki tingkat precision sebesar 0"
      ]
    },
    {
      "cell_type": "code",
      "metadata": {
        "id": "9NY-ocp5v7YK"
      },
      "source": [
        ""
      ],
      "execution_count": null,
      "outputs": []
    },
    {
      "cell_type": "markdown",
      "metadata": {
        "id": "O4SbdNjPwIns"
      },
      "source": [
        "##Summary Hasil Precision"
      ]
    },
    {
      "cell_type": "code",
      "metadata": {
        "colab": {
          "base_uri": "https://localhost:8080/"
        },
        "id": "5hEX_DZCwKyd",
        "outputId": "925c967c-3977-42b3-87c7-4e028b7111d6"
      },
      "source": [
        "accTable = PrettyTable(['Model', 'Precision'])\n",
        "accTable.add_row(['Logistic Regression', '0'])\n",
        "accTable.add_row(['Random Forest', '1'])\n",
        "accTable.add_row(['Decision Tree', '1'])\n",
        "accTable.add_row(['Naive Bayes', '0'])\n",
        "print(accTable)"
      ],
      "execution_count": null,
      "outputs": [
        {
          "output_type": "stream",
          "text": [
            "+---------------------+-----------+\n",
            "|        Model        | Precision |\n",
            "+---------------------+-----------+\n",
            "| Logistic Regression |     0     |\n",
            "|    Random Forest    |     1     |\n",
            "|    Decision Tree    |     1     |\n",
            "|     Naive Bayes     |     0     |\n",
            "+---------------------+-----------+\n"
          ],
          "name": "stdout"
        }
      ]
    },
    {
      "cell_type": "markdown",
      "metadata": {
        "id": "tSt3WaQ0uLVd"
      },
      "source": [
        "Model prediksi yang paling mendekati/direkomdasikan menggunakan Model Random Forest dengan tingkat akurasi 1 dan tingkat precision 1"
      ]
    },
    {
      "cell_type": "markdown",
      "metadata": {
        "id": "Uv0_JqdkvFpg"
      },
      "source": [
        "Random forest menyajikan perkiraan untuk kepentingan variabel, yaitu neural nets. Menawarkan metode superior untuk bekerja dengan data yang hilang/Missing Value. Nilai yang hilang diganti dengan variabel yang paling banyak muncul di node tertentu. Di antara semua metode klasifikasi yang tersedia, Random Forest memberikan akurasi tertinggi.\n",
        "\n",
        "Teknik Random Forest juga dapat menangani data besar dengan banyak variabel yang mencapai ribuan. Ini dapat secara otomatis menyeimbangkan kumpulan data ketika kelas lebih jarang daripada kelas lain dalam data. Metode ini juga menangani variabel dengan cepat, sehingga cocok untuk tugas yang rumit."
      ]
    },
    {
      "cell_type": "code",
      "metadata": {
        "id": "oq-48wnzwTY_"
      },
      "source": [
        ""
      ],
      "execution_count": null,
      "outputs": []
    },
    {
      "cell_type": "markdown",
      "metadata": {
        "id": "yaIkNdL_wXVW"
      },
      "source": [
        "#F. Hitung berapa besar Area-Under-Curve (AUC) dan Receiver-Operator Characteristics (ROC) untuk model tersebut?"
      ]
    },
    {
      "cell_type": "code",
      "metadata": {
        "id": "-r9YXQ4awxDs"
      },
      "source": [
        "y = file1['IS_CHURN']\n",
        "X = file1.drop(['IS_CHURN'],axis=1)\n",
        "X_train, X_test, y_train, y_test = train_test_split(X, y, test_size=0.2, random_state=42) #80% training and 20% testing"
      ],
      "execution_count": null,
      "outputs": []
    },
    {
      "cell_type": "code",
      "metadata": {
        "id": "ELt23bCBxHlh"
      },
      "source": [
        "clf1 = LogisticRegression()\n",
        "clf2 = RandomForestClassifier()\n",
        "clf3 = DecisionTreeClassifier()\n",
        "clf4 = GaussianNB()"
      ],
      "execution_count": null,
      "outputs": []
    },
    {
      "cell_type": "code",
      "metadata": {
        "colab": {
          "base_uri": "https://localhost:8080/"
        },
        "id": "gUY-zmvtxbtT",
        "outputId": "8316d22b-b204-4364-f970-8043a1192735"
      },
      "source": [
        "probas1_ = clf1.fit(X_train, y_train).predict_proba(X_test)\n",
        "probas2_ = clf2.fit(X_train, y_train).predict_proba(X_test)\n",
        "probas3_ = clf3.fit(X_train, y_train).predict_proba(X_test)\n",
        "probas4_ = clf4.fit(X_train, y_train).predict_proba(X_test)"
      ],
      "execution_count": null,
      "outputs": [
        {
          "output_type": "stream",
          "text": [
            "/usr/local/lib/python3.7/dist-packages/sklearn/linear_model/_logistic.py:940: ConvergenceWarning: lbfgs failed to converge (status=2):\n",
            "ABNORMAL_TERMINATION_IN_LNSRCH.\n",
            "\n",
            "Increase the number of iterations (max_iter) or scale the data as shown in:\n",
            "    https://scikit-learn.org/stable/modules/preprocessing.html\n",
            "Please also refer to the documentation for alternative solver options:\n",
            "    https://scikit-learn.org/stable/modules/linear_model.html#logistic-regression\n",
            "  extra_warning_msg=_LOGISTIC_SOLVER_CONVERGENCE_MSG)\n"
          ],
          "name": "stderr"
        }
      ]
    },
    {
      "cell_type": "code",
      "metadata": {
        "id": "0uKrtvYLxmAp"
      },
      "source": [
        "from sklearn.metrics import roc_curve, auc\n",
        "fp1, tp1, thresholds1 = roc_curve(y_test, probas1_[:, 1])\n",
        "roc_auc_model1 = auc(fp1, tp1)\n",
        "fp2, tp2, thresholds2 = roc_curve(y_test, probas2_[:, 1])\n",
        "roc_auc_model2 = auc(fp2, tp2)\n",
        "fp3, tp3, thresholds3 = roc_curve(y_test, probas3_[:, 1])\n",
        "roc_auc_model3 = auc(fp3, tp3)\n",
        "fp4, tp4, thresholds4 = roc_curve(y_test, probas4_[:, 1])\n",
        "roc_auc_model4 = auc(fp4, tp4)"
      ],
      "execution_count": null,
      "outputs": []
    },
    {
      "cell_type": "code",
      "metadata": {
        "colab": {
          "base_uri": "https://localhost:8080/"
        },
        "id": "XgEbdCyE12K7",
        "outputId": "0c533a04-de5e-4ed9-9cec-62204ee53064"
      },
      "source": [
        "print(\"AUC for Logistic Regression Model : \",roc_auc_model1)\n",
        "print(\"AUC for Random Forest Model :\" ,roc_auc_model2)\n",
        "print(\"AUC for Decision Tree Model : \",roc_auc_model3)\n",
        "print(\"AUC for Naive Bayes Model :\" ,roc_auc_model4)"
      ],
      "execution_count": null,
      "outputs": [
        {
          "output_type": "stream",
          "text": [
            "AUC for Logistic Regression Model :  0.5\n",
            "AUC for Random Forest Model : 1.0\n",
            "AUC for Decision Tree Model :  0.999457111834962\n",
            "AUC for Naive Bayes Model : 0.7520813026650627\n"
          ],
          "name": "stdout"
        }
      ]
    },
    {
      "cell_type": "code",
      "metadata": {
        "colab": {
          "base_uri": "https://localhost:8080/",
          "height": 294
        },
        "id": "vISqAmw41_az",
        "outputId": "2aeabf08-fb41-4318-edc6-49d0cb4315be"
      },
      "source": [
        "plt.clf()\n",
        "plt.plot(fp1, tp1, label='Logistic Model (area = %0.2f)' % roc_auc_model1)\n",
        "plt.plot(fp2, tp2, label='Random Forest Model (area = %0.2f)' % roc_auc_model2)\n",
        "plt.plot(fp3, tp3, label='Decision Tree Model (area = %0.2f)' % roc_auc_model3)\n",
        "plt.plot(fp4, tp4, label='Naive Bayes Model (area = %0.2f)' % roc_auc_model4)\n",
        "plt.plot([0, 1], [0, 1], 'k--')\n",
        "plt.xlim([0.0, 1.0])\n",
        "plt.ylim([0.0, 1.0])\n",
        "plt.xlabel('False Positive Rate')\n",
        "plt.ylabel('True Positive Rate')\n",
        "plt.title('Receiverrating characteristic example')\n",
        "plt.legend(loc=\"lower right\")\n",
        "plt.show()"
      ],
      "execution_count": null,
      "outputs": [
        {
          "output_type": "display_data",
          "data": {
            "image/png": "[encoded data removed]",
            "text/plain": [
              "<Figure size 432x288 with 1 Axes>"
            ]
          },
          "metadata": {
            "tags": [],
            "needs_background": "light"
          }
        }
      ]
    },
    {
      "cell_type": "markdown",
      "metadata": {
        "id": "7g5qCTHDvgIN"
      },
      "source": [
        "Berikut visualisasi ROC-AUC dari model-model yang telah dihitung dan diprediksi \n",
        "\n",
        "Model Random Forest dan Decision Tree memiliki nilai ROC-AUC yang sempurna  yaitu 1\n",
        "\n",
        "Sedangkan Model Logistic Regression dan Naive Bayes memiliki nilai ROC-AUC yaitu 0"
      ]
    },
    {
      "cell_type": "markdown",
      "metadata": {
        "id": "HtvxAd4rwDFZ"
      },
      "source": [
        "Terlihat bahwa Model Random Forest dan Decision Tree yang paling bagus karena semakin tinggi True Positive Rate dan semakin kecil False Positive Rate maka thresholdnya semakin bagus"
      ]
    },
    {
      "cell_type": "code",
      "metadata": {
        "id": "VLKhUWfk2LA2"
      },
      "source": [
        ""
      ],
      "execution_count": null,
      "outputs": []
    }
  ]
}